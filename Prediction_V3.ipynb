{
 "cells": [
  {
   "cell_type": "markdown",
   "metadata": {},
   "source": [
    "# Marker V3: Personal perspective"
   ]
  },
  {
   "cell_type": "code",
   "execution_count": 1,
   "metadata": {
    "collapsed": true
   },
   "outputs": [],
   "source": [
    "# Import packages\n",
    "# Dataframe\n",
    "import pandas as pd\n",
    "import numpy as np\n",
    "\n",
    "# Tokenization\n",
    "import spacy \n",
    "from tqdm.auto import tqdm\n",
    "\n",
    "# Random sample\n",
    "import random\n",
    "\n",
    "# Puncutation\n",
    "from collections import Counter\n",
    "import string\n",
    "\n",
    "# Emojis\n",
    "import emoji\n",
    "import regex\n",
    "\n",
    "# Model\n",
    "from sklearn.model_selection import train_test_split, cross_val_score, cross_val_predict, cross_validate, StratifiedKFold, GridSearchCV\n",
    "from sklearn.feature_extraction.text import TfidfVectorizer\n",
    "from sklearn.linear_model import LogisticRegression\n",
    "from sklearn.metrics import confusion_matrix, classification_report\n",
    "from sklearn import metrics, model_selection\n",
    "from sklearn import preprocessing\n",
    "from sklearn.svm import LinearSVC, SVC\n",
    "\n",
    "# Plot\n",
    "import matplotlib.pyplot as plt\n",
    "import seaborn as sns"
   ]
  },
  {
   "cell_type": "markdown",
   "metadata": {},
   "source": [
    "# Datasets"
   ]
  },
  {
   "cell_type": "markdown",
   "metadata": {},
   "source": [
    "### Dataset 1: Manually coded markers"
   ]
  },
  {
   "cell_type": "code",
   "execution_count": 2,
   "metadata": {},
   "outputs": [
    {
     "data": {
      "text/html": [
       "<div>\n",
       "<style scoped>\n",
       "    .dataframe tbody tr th:only-of-type {\n",
       "        vertical-align: middle;\n",
       "    }\n",
       "\n",
       "    .dataframe tbody tr th {\n",
       "        vertical-align: top;\n",
       "    }\n",
       "\n",
       "    .dataframe thead th {\n",
       "        text-align: right;\n",
       "    }\n",
       "</style>\n",
       "<table border=\"1\" class=\"dataframe\">\n",
       "  <thead>\n",
       "    <tr style=\"text-align: right;\">\n",
       "      <th></th>\n",
       "      <th>Topic</th>\n",
       "      <th>rank</th>\n",
       "      <th>ThreadID</th>\n",
       "      <th>CommentID</th>\n",
       "      <th>V1</th>\n",
       "      <th>V2</th>\n",
       "      <th>V3</th>\n",
       "      <th>V4</th>\n",
       "    </tr>\n",
       "  </thead>\n",
       "  <tbody>\n",
       "    <tr>\n",
       "      <th>0</th>\n",
       "      <td>2</td>\n",
       "      <td>1</td>\n",
       "      <td>2401305</td>\n",
       "      <td>174076980</td>\n",
       "      <td>2</td>\n",
       "      <td>3</td>\n",
       "      <td>1</td>\n",
       "      <td>4</td>\n",
       "    </tr>\n",
       "  </tbody>\n",
       "</table>\n",
       "</div>"
      ],
      "text/plain": [
       "   Topic  rank  ThreadID  CommentID V1 V2 V3 V4\n",
       "0      2     1   2401305  174076980  2  3  1  4"
      ]
     },
     "metadata": {},
     "output_type": "display_data"
    },
    {
     "data": {
      "text/plain": [
       "(9151, 6)"
      ]
     },
     "execution_count": 2,
     "metadata": {},
     "output_type": "execute_result"
    }
   ],
   "source": [
    "# Load dataset with manually coded markers\n",
    "df_manual = pd.read_csv('data/Training dataset.csv', delimiter=';')\n",
    "display(df_manual.head(1))\n",
    "\n",
    "# Delete columns Topic and rank\n",
    "df_manual.drop(columns=['Topic','rank'], inplace=True)\n",
    "\n",
    "# Print shape\n",
    "df_manual.shape"
   ]
  },
  {
   "cell_type": "markdown",
   "metadata": {},
   "source": [
    "### Dataset 2: FOK!Forum comments"
   ]
  },
  {
   "cell_type": "code",
   "execution_count": 3,
   "metadata": {},
   "outputs": [
    {
     "data": {
      "text/html": [
       "<div>\n",
       "<style scoped>\n",
       "    .dataframe tbody tr th:only-of-type {\n",
       "        vertical-align: middle;\n",
       "    }\n",
       "\n",
       "    .dataframe tbody tr th {\n",
       "        vertical-align: top;\n",
       "    }\n",
       "\n",
       "    .dataframe thead th {\n",
       "        text-align: right;\n",
       "    }\n",
       "</style>\n",
       "<table border=\"1\" class=\"dataframe\">\n",
       "  <thead>\n",
       "    <tr style=\"text-align: right;\">\n",
       "      <th></th>\n",
       "      <th>ThreadID</th>\n",
       "      <th>CommentID</th>\n",
       "      <th>Comment</th>\n",
       "      <th>Time</th>\n",
       "    </tr>\n",
       "  </thead>\n",
       "  <tbody>\n",
       "    <tr>\n",
       "      <th>0</th>\n",
       "      <td>2510437</td>\n",
       "      <td>188320433</td>\n",
       "      <td>Deel VI (6)!!! Het is ons gelukt! Ruim zeven j...</td>\n",
       "      <td>dinsdag 6 augustus 2019 @ 20:50:11</td>\n",
       "    </tr>\n",
       "  </tbody>\n",
       "</table>\n",
       "</div>"
      ],
      "text/plain": [
       "   ThreadID  CommentID                                            Comment  \\\n",
       "0   2510437  188320433  Deel VI (6)!!! Het is ons gelukt! Ruim zeven j...   \n",
       "\n",
       "                                 Time  \n",
       "0  dinsdag 6 augustus 2019 @ 20:50:11  "
      ]
     },
     "metadata": {},
     "output_type": "display_data"
    },
    {
     "data": {
      "text/plain": [
       "(116962, 3)"
      ]
     },
     "execution_count": 3,
     "metadata": {},
     "output_type": "execute_result"
    }
   ],
   "source": [
    "# Load dataset with scraped comments\n",
    "df_scrape = pd.read_csv('data/20210520_comment_list.csv', index_col=0)\n",
    "\n",
    "# Rename TopicID to ThreadID\n",
    "df_scrape.rename(columns={'TopicID':'ThreadID'},inplace=True)\n",
    "display(df_scrape.head(1))\n",
    "\n",
    "# Delete columns Topic and rank\n",
    "df_scrape.drop(columns=['Time'], inplace=True)\n",
    "\n",
    "# Print shape\n",
    "df_scrape.shape"
   ]
  },
  {
   "cell_type": "markdown",
   "metadata": {},
   "source": [
    "### Merge markers and comments"
   ]
  },
  {
   "cell_type": "code",
   "execution_count": 4,
   "metadata": {},
   "outputs": [
    {
     "data": {
      "text/html": [
       "<div>\n",
       "<style scoped>\n",
       "    .dataframe tbody tr th:only-of-type {\n",
       "        vertical-align: middle;\n",
       "    }\n",
       "\n",
       "    .dataframe tbody tr th {\n",
       "        vertical-align: top;\n",
       "    }\n",
       "\n",
       "    .dataframe thead th {\n",
       "        text-align: right;\n",
       "    }\n",
       "</style>\n",
       "<table border=\"1\" class=\"dataframe\">\n",
       "  <thead>\n",
       "    <tr style=\"text-align: right;\">\n",
       "      <th></th>\n",
       "      <th>ThreadID</th>\n",
       "      <th>CommentID</th>\n",
       "      <th>V1</th>\n",
       "      <th>V2</th>\n",
       "      <th>V3</th>\n",
       "      <th>V4</th>\n",
       "      <th>Comment</th>\n",
       "    </tr>\n",
       "  </thead>\n",
       "  <tbody>\n",
       "    <tr>\n",
       "      <th>0</th>\n",
       "      <td>2401305</td>\n",
       "      <td>174076980</td>\n",
       "      <td>2</td>\n",
       "      <td>3</td>\n",
       "      <td>1</td>\n",
       "      <td>4</td>\n",
       "      <td>Tijdens heb hebben van seks doet mijn toompje ...</td>\n",
       "    </tr>\n",
       "  </tbody>\n",
       "</table>\n",
       "</div>"
      ],
      "text/plain": [
       "   ThreadID  CommentID V1 V2  V3 V4  \\\n",
       "0   2401305  174076980  2  3   1  4   \n",
       "\n",
       "                                             Comment  \n",
       "0  Tijdens heb hebben van seks doet mijn toompje ...  "
      ]
     },
     "metadata": {},
     "output_type": "display_data"
    },
    {
     "data": {
      "text/plain": [
       "(4063, 7)"
      ]
     },
     "execution_count": 4,
     "metadata": {},
     "output_type": "execute_result"
    }
   ],
   "source": [
    "# Add df_manual and df_scrape together\n",
    "df = df_manual.merge(df_scrape, left_on=['ThreadID','CommentID'], right_on=['ThreadID','CommentID'])\n",
    "\n",
    "# Replace all empty cells of V3 with null values\n",
    "df.loc[:,'V3'] = df['V3'].str.strip().replace('',np.nan)\n",
    "\n",
    "# Remove all null values\n",
    "df = df[~df['V3'].isnull()]\n",
    "\n",
    "# Change datatype of V3 column\n",
    "df['V3'] = df['V3'].astype(int)\n",
    "\n",
    "# Replace 2 ('No') with 0\n",
    "df.loc[df['V3']==2,'V3'] = 0\n",
    "\n",
    "# Print shape and display head\n",
    "display(df.head(1))\n",
    "df.shape"
   ]
  },
  {
   "cell_type": "markdown",
   "metadata": {},
   "source": [
    "### Dataset 3: Automatically coded markers"
   ]
  },
  {
   "cell_type": "code",
   "execution_count": 5,
   "metadata": {},
   "outputs": [
    {
     "data": {
      "text/html": [
       "<div>\n",
       "<style scoped>\n",
       "    .dataframe tbody tr th:only-of-type {\n",
       "        vertical-align: middle;\n",
       "    }\n",
       "\n",
       "    .dataframe tbody tr th {\n",
       "        vertical-align: top;\n",
       "    }\n",
       "\n",
       "    .dataframe thead th {\n",
       "        text-align: right;\n",
       "    }\n",
       "</style>\n",
       "<table border=\"1\" class=\"dataframe\">\n",
       "  <thead>\n",
       "    <tr style=\"text-align: right;\">\n",
       "      <th></th>\n",
       "      <th>ThreadID</th>\n",
       "      <th>CommentID</th>\n",
       "      <th>Comment</th>\n",
       "      <th>m1_wordcount</th>\n",
       "      <th>m2_personalperspective</th>\n",
       "      <th>m3_pausality</th>\n",
       "      <th>m4_lexicaldiversity</th>\n",
       "      <th>m5_questionmark</th>\n",
       "      <th>m6_exclamationmark</th>\n",
       "      <th>m7_sentiment</th>\n",
       "    </tr>\n",
       "  </thead>\n",
       "  <tbody>\n",
       "    <tr>\n",
       "      <th>0</th>\n",
       "      <td>2510437</td>\n",
       "      <td>188320433</td>\n",
       "      <td>Deel VI (6)!!! Het is ons gelukt! Ruim zeven j...</td>\n",
       "      <td>61</td>\n",
       "      <td>no</td>\n",
       "      <td>2.571429</td>\n",
       "      <td>0.901639</td>\n",
       "      <td>0.0</td>\n",
       "      <td>4.0</td>\n",
       "      <td>-0.004167</td>\n",
       "    </tr>\n",
       "  </tbody>\n",
       "</table>\n",
       "</div>"
      ],
      "text/plain": [
       "   ThreadID  CommentID                                            Comment  \\\n",
       "0   2510437  188320433  Deel VI (6)!!! Het is ons gelukt! Ruim zeven j...   \n",
       "\n",
       "   m1_wordcount m2_personalperspective  m3_pausality  m4_lexicaldiversity  \\\n",
       "0            61                     no      2.571429             0.901639   \n",
       "\n",
       "   m5_questionmark  m6_exclamationmark  m7_sentiment  \n",
       "0              0.0                 4.0     -0.004167  "
      ]
     },
     "metadata": {},
     "output_type": "display_data"
    },
    {
     "data": {
      "text/plain": [
       "(113526, 10)"
      ]
     },
     "execution_count": 5,
     "metadata": {},
     "output_type": "execute_result"
    }
   ],
   "source": [
    "# Load dataset with all automatic markers\n",
    "df_automatic = pd.read_csv('data/automaticmarkers.csv', index_col=0)\n",
    "\n",
    "# Print shape and display head\n",
    "display(df_automatic.head(1))\n",
    "df_automatic.shape"
   ]
  },
  {
   "cell_type": "markdown",
   "metadata": {},
   "source": [
    "### Merge manual markers, comments, and automatic markers"
   ]
  },
  {
   "cell_type": "code",
   "execution_count": 6,
   "metadata": {},
   "outputs": [
    {
     "data": {
      "text/plain": [
       "(4063, 14)"
      ]
     },
     "execution_count": 6,
     "metadata": {},
     "output_type": "execute_result"
    }
   ],
   "source": [
    "# Add df and df_automatic together while keeping only rows where V3 is not null\n",
    "df_manaut = df.merge(df_automatic, left_on=['ThreadID','CommentID','Comment'], right_on=['ThreadID','CommentID','Comment'])\n",
    "df_manaut.to_csv('data/allmarkers.csv')\n",
    "\n",
    "# Print shape\n",
    "df_manaut.shape"
   ]
  },
  {
   "cell_type": "markdown",
   "metadata": {},
   "source": [
    "### Merge comments with automatic markers which do not have manual marker "
   ]
  },
  {
   "cell_type": "code",
   "execution_count": 7,
   "metadata": {},
   "outputs": [
    {
     "data": {
      "text/plain": [
       "(109463, 14)"
      ]
     },
     "execution_count": 7,
     "metadata": {},
     "output_type": "execute_result"
    }
   ],
   "source": [
    "# Add df and df_automatic together while keeping only rows where V3 is null\n",
    "df_autman = df_automatic.merge(df, left_on=['ThreadID','CommentID','Comment'], right_on=['ThreadID','CommentID','Comment'], how='outer')\n",
    "df_autman = df_autman[df_autman['V3'].isna()]\n",
    "\n",
    "# Change categories of marker into dummy variables\n",
    "df_autman.loc[df_autman['m2_personalperspective']=='no','m2_personalperspective'] = 0\n",
    "df_autman.loc[df_autman['m2_personalperspective']=='yes','m2_personalperspective'] = 1\n",
    "\n",
    "# Print shape\n",
    "df_autman.shape"
   ]
  },
  {
   "cell_type": "markdown",
   "metadata": {},
   "source": [
    "# Pre-processing"
   ]
  },
  {
   "cell_type": "markdown",
   "metadata": {},
   "source": [
    "## Tokenization"
   ]
  },
  {
   "cell_type": "code",
   "execution_count": 8,
   "metadata": {
    "collapsed": true
   },
   "outputs": [],
   "source": [
    "# Load Dutch pipeline\n",
    "nlp = spacy.load(\"nl_core_news_sm\")\n",
    "\n",
    "# Process comments\n",
    "processed_txt = [t for t in tqdm(nlp.pipe(df['Comment']), disable=['ner','parser'])]"
   ]
  },
  {
   "cell_type": "code",
   "execution_count": 9,
   "metadata": {
    "collapsed": true
   },
   "outputs": [],
   "source": [
    "# Get a list of all emojis\n",
    "emojis = set([kk for k,v in emoji.UNICODE_EMOJI.items() for kk,vv in v.items()])\n",
    "\n",
    "# Tokenize and lowercase text and remove excess whitespaces, punctuation, emojis, and empty strings containing only whitespaces\n",
    "proc_txt = [[t.text.strip().lower() for t in text if not t.is_punct and not t.text in emojis and not t.text.isspace()] \n",
    "            for text in processed_txt]"
   ]
  },
  {
   "cell_type": "markdown",
   "metadata": {},
   "source": [
    "## Visualization"
   ]
  },
  {
   "cell_type": "code",
   "execution_count": 11,
   "metadata": {
    "collapsed": true
   },
   "outputs": [],
   "source": [
    "# Make a special dataframe for V3\n",
    "df_V3 = df[['V3']].copy() \n",
    "\n",
    "# Change datatype of V3 column\n",
    "df_V3['V3'] = df_V3['V3'].astype(int)\n",
    "\n",
    "# Change dummy variables into appropriate labels\n",
    "df_V3.loc[df_V3['V3']==0,'V3'] = 'No'\n",
    "df_V3.loc[df_V3['V3']==1,'V3'] = 'Yes'"
   ]
  },
  {
   "cell_type": "code",
   "execution_count": 12,
   "metadata": {},
   "outputs": [
    {
     "data": {
      "image/png": "[encoded data removed]",
      "text/plain": [
       "<Figure size 432x288 with 1 Axes>"
      ]
     },
     "metadata": {},
     "output_type": "display_data"
    }
   ],
   "source": [
    "# Set style options for plot\n",
    "sns.set_style('white') # Back ground\n",
    "\n",
    "# Create plot and set labels (value_counts(normalize=True))\n",
    "counts = df_V3['V3'].value_counts(normalize=True).mul(100).rename('count').reset_index().sort_values('index')\n",
    "\n",
    "# Set colour palette\n",
    "palette = {c: '#89DAFF' if c != 'No' else '#F75C03' for c in counts['index']}\n",
    "\n",
    "# Create plot and set labels\n",
    "sns.barplot(x='index', y='count', data=counts, order=counts['index'], palette=palette)\n",
    "plt.ylabel('% of comments')\n",
    "plt.xlabel('V3: Personal perspective')\n",
    "\n",
    "# Remove right and top spines\n",
    "sns.despine()\n",
    "\n",
    "# Save and plot figure\n",
    "plt.savefig('data/v3_personalperspective.png', dpi=1200)\n",
    "plt.show()"
   ]
  },
  {
   "cell_type": "markdown",
   "metadata": {},
   "source": [
    "# Prediction"
   ]
  },
  {
   "cell_type": "markdown",
   "metadata": {},
   "source": [
    "## Train- and test-dataset"
   ]
  },
  {
   "cell_type": "code",
   "execution_count": 13,
   "metadata": {},
   "outputs": [
    {
     "name": "stdout",
     "output_type": "stream",
     "text": [
      "3250 813\n"
     ]
    }
   ],
   "source": [
    "# Declare rng variable in order to get reproducible results across multiple examinations\n",
    "rng = np.random.RandomState(0)\n",
    "\n",
    "# Define X and y\n",
    "X = list(proc_txt) # The descriptions we base our prediction on --> X\n",
    "y = list(df['V3'].values) # The labels we want to predict --> Y\n",
    "labels = ['No','Yes']\n",
    "\n",
    "# Split dataset into train and test data\n",
    "X_train, X_test, y_train, y_test = train_test_split(X, y, test_size=.20, random_state=rng)\n",
    "\n",
    "print(len(X_train), len(X_test))"
   ]
  },
  {
   "cell_type": "markdown",
   "metadata": {},
   "source": [
    "## TF-IDF"
   ]
  },
  {
   "cell_type": "code",
   "execution_count": 14,
   "metadata": {
    "scrolled": true
   },
   "outputs": [
    {
     "name": "stderr",
     "output_type": "stream",
     "text": [
      "C:\\Users\\Jo\\Anaconda3\\lib\\site-packages\\sklearn\\feature_extraction\\text.py:489: UserWarning: The parameter 'token_pattern' will not be used since 'tokenizer' is not None'\n",
      "  warnings.warn(\"The parameter 'token_pattern' will not be used\"\n"
     ]
    }
   ],
   "source": [
    "# Call vectorizer\n",
    "tfidf = TfidfVectorizer(tokenizer=lambda x:x,\n",
    "                        preprocessor=lambda x:x) \n",
    "\n",
    "# Create the vocabulary\n",
    "tfidf.fit(X_train)\n",
    "\n",
    "# Vectorize textual data\n",
    "X_train = tfidf.transform(X_train).toarray()\n",
    "X_test = tfidf.transform(X_test).toarray()"
   ]
  },
  {
   "cell_type": "markdown",
   "metadata": {},
   "source": [
    "## Set variables for GridSearchCV()"
   ]
  },
  {
   "cell_type": "code",
   "execution_count": 15,
   "metadata": {
    "collapsed": true
   },
   "outputs": [],
   "source": [
    "# Set cross-validation method as input for GridSearchCV()\n",
    "cv_method = StratifiedKFold(n_splits=5)"
   ]
  },
  {
   "cell_type": "markdown",
   "metadata": {},
   "source": [
    "## Logistic regression"
   ]
  },
  {
   "cell_type": "markdown",
   "metadata": {},
   "source": [
    "### Train classifier"
   ]
  },
  {
   "cell_type": "code",
   "execution_count": 16,
   "metadata": {},
   "outputs": [
    {
     "name": "stdout",
     "output_type": "stream",
     "text": [
      "Fitting 5 folds for each of 5 candidates, totalling 25 fits\n",
      "[CV 1/5] END .............................C=0.1;, score=0.872 total time=   0.9s\n",
      "[CV 2/5] END .............................C=0.1;, score=0.860 total time=   1.1s\n",
      "[CV 3/5] END .............................C=0.1;, score=0.849 total time=   1.0s\n",
      "[CV 4/5] END .............................C=0.1;, score=0.869 total time=   1.0s\n",
      "[CV 5/5] END .............................C=0.1;, score=0.865 total time=   1.1s\n",
      "[CV 1/5] END ...............................C=1;, score=0.905 total time=   2.2s\n",
      "[CV 2/5] END ...............................C=1;, score=0.914 total time=   2.1s\n",
      "[CV 3/5] END ...............................C=1;, score=0.891 total time=   2.0s\n",
      "[CV 4/5] END ...............................C=1;, score=0.905 total time=   2.1s\n",
      "[CV 5/5] END ...............................C=1;, score=0.892 total time=   2.2s\n",
      "[CV 1/5] END ..............................C=10;, score=0.915 total time=   4.2s\n",
      "[CV 2/5] END ..............................C=10;, score=0.917 total time=   3.0s\n",
      "[CV 3/5] END ..............................C=10;, score=0.900 total time=   4.1s\n",
      "[CV 4/5] END ..............................C=10;, score=0.917 total time=   3.4s\n",
      "[CV 5/5] END ..............................C=10;, score=0.906 total time=   4.0s\n",
      "[CV 1/5] END .............................C=100;, score=0.906 total time=   4.6s\n",
      "[CV 2/5] END .............................C=100;, score=0.918 total time=   3.2s\n",
      "[CV 3/5] END .............................C=100;, score=0.898 total time=   5.1s\n",
      "[CV 4/5] END .............................C=100;, score=0.911 total time=   4.5s\n",
      "[CV 5/5] END .............................C=100;, score=0.909 total time=   3.2s\n"
     ]
    },
    {
     "name": "stderr",
     "output_type": "stream",
     "text": [
      "C:\\Users\\Jo\\Anaconda3\\lib\\site-packages\\sklearn\\linear_model\\_logistic.py:765: ConvergenceWarning: lbfgs failed to converge (status=1):\n",
      "STOP: TOTAL NO. of ITERATIONS REACHED LIMIT.\n",
      "\n",
      "Increase the number of iterations (max_iter) or scale the data as shown in:\n",
      "    https://scikit-learn.org/stable/modules/preprocessing.html\n",
      "Please also refer to the documentation for alternative solver options:\n",
      "    https://scikit-learn.org/stable/modules/linear_model.html#logistic-regression\n",
      "  extra_warning_msg=_LOGISTIC_SOLVER_CONVERGENCE_MSG)\n"
     ]
    },
    {
     "name": "stdout",
     "output_type": "stream",
     "text": [
      "[CV 1/5] END ............................C=1000;, score=0.902 total time=   5.6s\n",
      "[CV 2/5] END ............................C=1000;, score=0.914 total time=   4.5s\n",
      "[CV 3/5] END ............................C=1000;, score=0.894 total time=   3.4s\n",
      "[CV 4/5] END ............................C=1000;, score=0.905 total time=   4.9s\n"
     ]
    },
    {
     "name": "stderr",
     "output_type": "stream",
     "text": [
      "C:\\Users\\Jo\\Anaconda3\\lib\\site-packages\\sklearn\\linear_model\\_logistic.py:765: ConvergenceWarning: lbfgs failed to converge (status=1):\n",
      "STOP: TOTAL NO. of ITERATIONS REACHED LIMIT.\n",
      "\n",
      "Increase the number of iterations (max_iter) or scale the data as shown in:\n",
      "    https://scikit-learn.org/stable/modules/preprocessing.html\n",
      "Please also refer to the documentation for alternative solver options:\n",
      "    https://scikit-learn.org/stable/modules/linear_model.html#logistic-regression\n",
      "  extra_warning_msg=_LOGISTIC_SOLVER_CONVERGENCE_MSG)\n"
     ]
    },
    {
     "name": "stdout",
     "output_type": "stream",
     "text": [
      "[CV 5/5] END ............................C=1000;, score=0.905 total time=   5.6s\n",
      "LogisticRegression(C=10)\n"
     ]
    }
   ],
   "source": [
    "# Set parameters\n",
    "param_grid_lr = {\n",
    "    'C': [0.1, 1, 10, 100, 1000]\n",
    "}\n",
    "\n",
    "# Find best Logistic Regression classifier\n",
    "lr_grid = GridSearchCV(estimator=LogisticRegression(), param_grid=param_grid_lr, verbose=3, cv=cv_method)\n",
    "\n",
    "# Fit best model\n",
    "lr_grid.fit(X_train, y_train)\n",
    "print(lr_grid.best_estimator_)\n",
    "\n",
    "# Predict marker for test dataset\n",
    "y_pred_lr = lr_grid.predict(X_test)"
   ]
  },
  {
   "cell_type": "code",
   "execution_count": 17,
   "metadata": {},
   "outputs": [
    {
     "data": {
      "text/html": [
       "<div>\n",
       "<style scoped>\n",
       "    .dataframe tbody tr th:only-of-type {\n",
       "        vertical-align: middle;\n",
       "    }\n",
       "\n",
       "    .dataframe tbody tr th {\n",
       "        vertical-align: top;\n",
       "    }\n",
       "\n",
       "    .dataframe thead th {\n",
       "        text-align: right;\n",
       "    }\n",
       "</style>\n",
       "<table border=\"1\" class=\"dataframe\">\n",
       "  <thead>\n",
       "    <tr style=\"text-align: right;\">\n",
       "      <th></th>\n",
       "      <th>precision</th>\n",
       "      <th>recall</th>\n",
       "      <th>f1-score</th>\n",
       "      <th>support</th>\n",
       "    </tr>\n",
       "  </thead>\n",
       "  <tbody>\n",
       "    <tr>\n",
       "      <th>No</th>\n",
       "      <td>0.863636</td>\n",
       "      <td>0.890625</td>\n",
       "      <td>0.876923</td>\n",
       "      <td>320.000000</td>\n",
       "    </tr>\n",
       "    <tr>\n",
       "      <th>Yes</th>\n",
       "      <td>0.927536</td>\n",
       "      <td>0.908722</td>\n",
       "      <td>0.918033</td>\n",
       "      <td>493.000000</td>\n",
       "    </tr>\n",
       "    <tr>\n",
       "      <th>accuracy</th>\n",
       "      <td>0.901599</td>\n",
       "      <td>0.901599</td>\n",
       "      <td>0.901599</td>\n",
       "      <td>0.901599</td>\n",
       "    </tr>\n",
       "    <tr>\n",
       "      <th>macro avg</th>\n",
       "      <td>0.895586</td>\n",
       "      <td>0.899674</td>\n",
       "      <td>0.897478</td>\n",
       "      <td>813.000000</td>\n",
       "    </tr>\n",
       "    <tr>\n",
       "      <th>weighted avg</th>\n",
       "      <td>0.902385</td>\n",
       "      <td>0.901599</td>\n",
       "      <td>0.901852</td>\n",
       "      <td>813.000000</td>\n",
       "    </tr>\n",
       "  </tbody>\n",
       "</table>\n",
       "</div>"
      ],
      "text/plain": [
       "              precision    recall  f1-score     support\n",
       "No             0.863636  0.890625  0.876923  320.000000\n",
       "Yes            0.927536  0.908722  0.918033  493.000000\n",
       "accuracy       0.901599  0.901599  0.901599    0.901599\n",
       "macro avg      0.895586  0.899674  0.897478  813.000000\n",
       "weighted avg   0.902385  0.901599  0.901852  813.000000"
      ]
     },
     "metadata": {},
     "output_type": "display_data"
    },
    {
     "data": {
      "text/html": [
       "<div>\n",
       "<style scoped>\n",
       "    .dataframe tbody tr th:only-of-type {\n",
       "        vertical-align: middle;\n",
       "    }\n",
       "\n",
       "    .dataframe tbody tr th {\n",
       "        vertical-align: top;\n",
       "    }\n",
       "\n",
       "    .dataframe thead th {\n",
       "        text-align: right;\n",
       "    }\n",
       "</style>\n",
       "<table border=\"1\" class=\"dataframe\">\n",
       "  <thead>\n",
       "    <tr style=\"text-align: right;\">\n",
       "      <th></th>\n",
       "      <th>0</th>\n",
       "      <th>1</th>\n",
       "    </tr>\n",
       "  </thead>\n",
       "  <tbody>\n",
       "    <tr>\n",
       "      <th>0</th>\n",
       "      <td>285</td>\n",
       "      <td>35</td>\n",
       "    </tr>\n",
       "    <tr>\n",
       "      <th>1</th>\n",
       "      <td>45</td>\n",
       "      <td>448</td>\n",
       "    </tr>\n",
       "  </tbody>\n",
       "</table>\n",
       "</div>"
      ],
      "text/plain": [
       "     0    1\n",
       "0  285   35\n",
       "1   45  448"
      ]
     },
     "metadata": {},
     "output_type": "display_data"
    }
   ],
   "source": [
    "# Print classification report\n",
    "report = classification_report(y_test, y_pred_lr, \n",
    "                               target_names=labels,\n",
    "                               output_dict=True)\n",
    "df_report = pd.DataFrame(report).transpose()\n",
    "display(df_report)\n",
    "\n",
    "# Print confusion matrix\n",
    "cm = confusion_matrix(y_test, y_pred_lr)\n",
    "df_cm = pd.DataFrame(cm)\n",
    "display(df_cm)"
   ]
  },
  {
   "cell_type": "markdown",
   "metadata": {},
   "source": [
    "### Interpretation"
   ]
  },
  {
   "cell_type": "code",
   "execution_count": null,
   "metadata": {
    "collapsed": true
   },
   "outputs": [],
   "source": [
    "# Get the Logistic Regression weights\n",
    "vocabulary = tfidf.get_feature_names()\n",
    "regression_coefficients = lr_grid.best_estimator_.coef_[0] # get the LR weights\n",
    "\n",
    "# Put weights and words into a dataframe\n",
    "vocab_coef_combined = list(zip(regression_coefficients, vocabulary)) # this combines two separate lists [1, 2], ['word1', 'word2'] into one list [[1, 'word1'], [2, 'word2']]\n",
    "feature_importance = pd.DataFrame(vocab_coef_combined,\n",
    "                      columns=['coef', 'word'])"
   ]
  },
  {
   "cell_type": "code",
   "execution_count": 31,
   "metadata": {
    "collapsed": true
   },
   "outputs": [],
   "source": [
    "coefficients = feature_importance.sort_values('coef', ascending=True).head(15)\n",
    "coefficients = coefficients.append(feature_importance.sort_values('coef', ascending=True).tail(15))"
   ]
  },
  {
   "cell_type": "code",
   "execution_count": 33,
   "metadata": {},
   "outputs": [
    {
     "data": {
      "image/png": "[encoded data removed]",
      "text/plain": [
       "<Figure size 432x288 with 1 Axes>"
      ]
     },
     "metadata": {},
     "output_type": "display_data"
    }
   ],
   "source": [
    "# Set style options for plot\n",
    "sns.set_style('white') # Back ground\n",
    "\n",
    "# Set colour palette\n",
    "palette = {w: '#89DAFF' if c > 0 else '#F75C03' for c,w in coefficients.values}\n",
    "\n",
    "# Create plot\n",
    "ax = sns.barplot(x='word',y='coef',data=coefficients,palette=palette)\n",
    "ax.set_xticklabels(ax.get_xticklabels(), rotation=45, size=8.2, ha='right')\n",
    "plt.ylabel('Coefficient magnitude')\n",
    "plt.xlabel('Feature')\n",
    "\n",
    "# Remove right and top spines\n",
    "sns.despine()\n",
    "\n",
    "plt.savefig('data/coef.png', dpi=1200, bbox_inches='tight')\n",
    "plt.show()"
   ]
  },
  {
   "cell_type": "markdown",
   "metadata": {},
   "source": [
    "## SVM"
   ]
  },
  {
   "cell_type": "code",
   "execution_count": null,
   "metadata": {},
   "outputs": [
    {
     "name": "stdout",
     "output_type": "stream",
     "text": [
      "Fitting 5 folds for each of 4 candidates, totalling 20 fits\n",
      "[CV 1/5] END .............................C=0.1;, score=0.866 total time= 4.8min\n",
      "[CV 2/5] END .............................C=0.1;, score=0.872 total time= 4.8min\n",
      "[CV 3/5] END .............................C=0.1;, score=0.862 total time= 4.9min\n",
      "[CV 4/5] END .............................C=0.1;, score=0.854 total time= 5.0min\n",
      "[CV 5/5] END .............................C=0.1;, score=0.851 total time= 5.3min\n",
      "[CV 1/5] END ...............................C=1;, score=0.909 total time= 3.7min\n",
      "[CV 2/5] END ...............................C=1;, score=0.920 total time= 3.6min\n",
      "[CV 3/5] END ...............................C=1;, score=0.906 total time= 3.7min\n",
      "[CV 4/5] END ...............................C=1;, score=0.922 total time= 3.6min\n",
      "[CV 5/5] END ...............................C=1;, score=0.915 total time= 3.6min\n",
      "[CV 1/5] END ..............................C=10;, score=0.895 total time= 4.5min\n",
      "[CV 2/5] END ..............................C=10;, score=0.903 total time= 4.6min\n",
      "[CV 3/5] END ..............................C=10;, score=0.885 total time= 3.5min\n",
      "[CV 4/5] END ..............................C=10;, score=0.895 total time= 4.4min\n",
      "[CV 5/5] END ..............................C=10;, score=0.897 total time= 3.5min\n",
      "[CV 1/5] END .............................C=100;, score=0.895 total time= 4.6min\n",
      "[CV 2/5] END .............................C=100;, score=0.902 total time=56.1min\n",
      "[CV 3/5] END .............................C=100;, score=0.885 total time= 6.0min\n",
      "[CV 4/5] END .............................C=100;, score=0.894 total time= 7.5min\n",
      "[CV 5/5] END .............................C=100;, score=0.897 total time= 7.1min\n",
      "SVC(C=1, kernel='linear')\n"
     ]
    }
   ],
   "source": [
    "param_grid_svm = {'C': [0.1, 1, 10, 100]}\n",
    " \n",
    "lsvc_grid = GridSearchCV(SVC(kernel='linear'), param_grid=param_grid_svm, verbose=3, cv=cv_method)\n",
    "\n",
    "# Fit best model\n",
    "lsvc_grid.fit(X_train, y_train)\n",
    "print(lsvc_grid.best_estimator_)\n",
    "\n",
    "# Predict marker for test dataset\n",
    "y_pred_lsvc = lsvc_grid.predict(X_test)"
   ]
  },
  {
   "cell_type": "code",
   "execution_count": 20,
   "metadata": {},
   "outputs": [
    {
     "data": {
      "text/html": [
       "<div>\n",
       "<style scoped>\n",
       "    .dataframe tbody tr th:only-of-type {\n",
       "        vertical-align: middle;\n",
       "    }\n",
       "\n",
       "    .dataframe tbody tr th {\n",
       "        vertical-align: top;\n",
       "    }\n",
       "\n",
       "    .dataframe thead th {\n",
       "        text-align: right;\n",
       "    }\n",
       "</style>\n",
       "<table border=\"1\" class=\"dataframe\">\n",
       "  <thead>\n",
       "    <tr style=\"text-align: right;\">\n",
       "      <th></th>\n",
       "      <th>precision</th>\n",
       "      <th>recall</th>\n",
       "      <th>f1-score</th>\n",
       "      <th>support</th>\n",
       "    </tr>\n",
       "  </thead>\n",
       "  <tbody>\n",
       "    <tr>\n",
       "      <th>No</th>\n",
       "      <td>0.842566</td>\n",
       "      <td>0.903125</td>\n",
       "      <td>0.871795</td>\n",
       "      <td>320.000000</td>\n",
       "    </tr>\n",
       "    <tr>\n",
       "      <th>Yes</th>\n",
       "      <td>0.934043</td>\n",
       "      <td>0.890467</td>\n",
       "      <td>0.911734</td>\n",
       "      <td>493.000000</td>\n",
       "    </tr>\n",
       "    <tr>\n",
       "      <th>accuracy</th>\n",
       "      <td>0.895449</td>\n",
       "      <td>0.895449</td>\n",
       "      <td>0.895449</td>\n",
       "      <td>0.895449</td>\n",
       "    </tr>\n",
       "    <tr>\n",
       "      <th>macro avg</th>\n",
       "      <td>0.888304</td>\n",
       "      <td>0.896796</td>\n",
       "      <td>0.891765</td>\n",
       "      <td>813.000000</td>\n",
       "    </tr>\n",
       "    <tr>\n",
       "      <th>weighted avg</th>\n",
       "      <td>0.898037</td>\n",
       "      <td>0.895449</td>\n",
       "      <td>0.896014</td>\n",
       "      <td>813.000000</td>\n",
       "    </tr>\n",
       "  </tbody>\n",
       "</table>\n",
       "</div>"
      ],
      "text/plain": [
       "              precision    recall  f1-score     support\n",
       "No             0.842566  0.903125  0.871795  320.000000\n",
       "Yes            0.934043  0.890467  0.911734  493.000000\n",
       "accuracy       0.895449  0.895449  0.895449    0.895449\n",
       "macro avg      0.888304  0.896796  0.891765  813.000000\n",
       "weighted avg   0.898037  0.895449  0.896014  813.000000"
      ]
     },
     "metadata": {},
     "output_type": "display_data"
    },
    {
     "data": {
      "text/html": [
       "<div>\n",
       "<style scoped>\n",
       "    .dataframe tbody tr th:only-of-type {\n",
       "        vertical-align: middle;\n",
       "    }\n",
       "\n",
       "    .dataframe tbody tr th {\n",
       "        vertical-align: top;\n",
       "    }\n",
       "\n",
       "    .dataframe thead th {\n",
       "        text-align: right;\n",
       "    }\n",
       "</style>\n",
       "<table border=\"1\" class=\"dataframe\">\n",
       "  <thead>\n",
       "    <tr style=\"text-align: right;\">\n",
       "      <th></th>\n",
       "      <th>0</th>\n",
       "      <th>1</th>\n",
       "    </tr>\n",
       "  </thead>\n",
       "  <tbody>\n",
       "    <tr>\n",
       "      <th>0</th>\n",
       "      <td>289</td>\n",
       "      <td>31</td>\n",
       "    </tr>\n",
       "    <tr>\n",
       "      <th>1</th>\n",
       "      <td>54</td>\n",
       "      <td>439</td>\n",
       "    </tr>\n",
       "  </tbody>\n",
       "</table>\n",
       "</div>"
      ],
      "text/plain": [
       "     0    1\n",
       "0  289   31\n",
       "1   54  439"
      ]
     },
     "metadata": {},
     "output_type": "display_data"
    }
   ],
   "source": [
    "# Print classification report\n",
    "report = classification_report(y_test, y_pred_lsvc, \n",
    "                               target_names=labels,\n",
    "                               output_dict=True)\n",
    "df_report = pd.DataFrame(report).transpose()\n",
    "display(df_report)\n",
    "\n",
    "# Print confusion matrix\n",
    "cm = confusion_matrix(y_test, y_pred_lsvc)\n",
    "df_cm = pd.DataFrame(cm)\n",
    "display(df_cm)"
   ]
  }
 ],
 "metadata": {
  "kernelspec": {
   "display_name": "Python 3",
   "language": "python",
   "name": "python3"
  },
  "language_info": {
   "codemirror_mode": {
    "name": "ipython",
    "version": 3
   },
   "file_extension": ".py",
   "mimetype": "text/x-python",
   "name": "python",
   "nbconvert_exporter": "python",
   "pygments_lexer": "ipython3",
   "version": "3.6.3"
  }
 },
 "nbformat": 4,
 "nbformat_minor": 2
}
