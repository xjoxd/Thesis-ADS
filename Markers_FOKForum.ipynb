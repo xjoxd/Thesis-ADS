{
 "cells": [
  {
   "cell_type": "markdown",
   "metadata": {},
   "source": [
    "# Modeling markers from literature on data \n",
   ]
  },
  {
   "cell_type": "code",
   "execution_count": 1,
   "metadata": {
    "collapsed": true
   },
   "outputs": [],
   "source": [
    "# Import packages\n",
    "# Dataframe\n",
    "import pandas as pd\n",
    "import numpy as np\n",
    "\n",
    "# Tokenization\n",
    "import spacy \n",
    "from tqdm.auto import tqdm\n",
    "\n",
    "# Puncutation\n",
    "from collections import Counter\n",
    "import string\n",
    "\n",
    "# Emojis\n",
    "import emoji\n",
    "\n",
    "# Cohen's kappa\n",
    "from sklearn.metrics import cohen_kappa_score\n",
    "\n",
    "# Correlation\n",
    "from scipy import stats\n",
    "\n",
    "# Creating plots\n",
    "import seaborn as sns\n",
    "import matplotlib.pyplot as plt"
   ]
  },
  {
   "cell_type": "markdown",
   "metadata": {},
   "source": [
    "# Load datasets"
   ]
  },
  {
   "cell_type": "markdown",
   "metadata": {},
   "source": [
    "## Dataset 1: FOK!Forum"
   ]
  },
  {
   "cell_type": "code",
   "execution_count": 2,
   "metadata": {},
   "outputs": [
    {
     "data": {
      "text/plain": [
       "(116962, 4)"
      ]
     },
     "execution_count": 2,
     "metadata": {},
     "output_type": "execute_result"
    }
   ],
   "source": [
    "# Load dataset 1\n",
    "df = pd.read_csv('data/20210520_comment_list.csv', index_col=False).iloc[:,1:]\n",
    "\n",
    "# Rename TopicID to ThreadID\n",
    "df.rename(columns={'TopicID':'ThreadID'},inplace=True)\n",
    "\n",
    "# Print shape before deletion of rows\n",
    "df.shape"
   ]
  },
  {
   "cell_type": "code",
   "execution_count": 3,
   "metadata": {},
   "outputs": [
    {
     "data": {
      "text/plain": [
       "(113526, 4)"
      ]
     },
     "execution_count": 3,
     "metadata": {},
     "output_type": "execute_result"
    }
   ],
   "source": [
    "# Delete comments that contain null values\n",
    "df = df[~df['Comment'].isna()].copy()\n",
    "\n",
    "# Convert column type to string in order to process the comments\n",
    "df['Comment'] = df['Comment'].astype(str)\n",
    "\n",
    "# Print shape after deletion of rows\n",
    "df.shape"
   ]
  },
  {
   "cell_type": "markdown",
   "metadata": {},
   "source": [
    "## Dataset 2: Manually coded markers"
   ]
  },
  {
   "cell_type": "code",
   "execution_count": 4,
   "metadata": {},
   "outputs": [
    {
     "data": {
      "text/plain": [
       "(9151, 6)"
      ]
     },
     "execution_count": 4,
     "metadata": {},
     "output_type": "execute_result"
    }
   ],
   "source": [
    "# Load dataset 2\n",
    "df_manual = pd.read_csv('data/Training dataset.csv', delimiter=';')\n",
    "\n",
    "# Delete columns Topic and rank\n",
    "df_manual = df_manual[['ThreadID','CommentID','V1','V2','V3','V4']].copy()\n",
    "\n",
    "# Print shape\n",
    "df_manual.shape"
   ]
  },
  {
   "cell_type": "markdown",
   "metadata": {},
   "source": [
    "## Dataset 3: Sentiment score"
   ]
  },
  {
   "cell_type": "code",
   "execution_count": 5,
   "metadata": {},
   "outputs": [
    {
     "data": {
      "text/plain": [
       "(116962, 6)"
      ]
     },
     "execution_count": 5,
     "metadata": {},
     "output_type": "execute_result"
    }
   ],
   "source": [
    "# Load dataset 3\n",
    "df_sentiment = pd.read_csv('data/fokforum_sentiment.csv',sep='\\t',index_col=0)\n",
    "\n",
    "# Print shape\n",
    "df_sentiment.shape"
   ]
  },
  {
   "cell_type": "markdown",
   "metadata": {},
   "source": [
    "# Pre-processing"
   ]
  },
  {
   "cell_type": "markdown",
   "metadata": {},
   "source": [
    "## Tokenization"
   ]
  },
  {
   "cell_type": "code",
   "execution_count": 6,
   "metadata": {},
   "outputs": [
    {
     "data": {
      "application/vnd.jupyter.widget-view+json": {
       "model_id": "bff2af8431d947438da6f3a499151eb0",
       "version_major": 2,
       "version_minor": 0
      },
      "text/plain": [
       "A Jupyter Widget"
      ]
     },
     "metadata": {},
     "output_type": "display_data"
    },
    {
     "name": "stdout",
     "output_type": "stream",
     "text": [
      "\n"
     ]
    }
   ],
   "source": [
    "# Load Dutch pipeline\n",
    "nlp = spacy.load(\"nl_core_news_sm\")\n",
    "\n",
    "# Process comments\n",
    "processed_txt = [t for t in tqdm(nlp.pipe(df['Comment']))]"
   ]
  },
  {
   "cell_type": "code",
   "execution_count": 7,
   "metadata": {
    "collapsed": true
   },
   "outputs": [],
   "source": [
    "# Tokenize text without any additional pre-processing steps\n",
    "proc_txt_punct = [[t for t in text] for text in processed_txt]"
   ]
  },
  {
   "cell_type": "markdown",
   "metadata": {},
   "source": [
    "The code below ensures that only words are retained. Therefore, the following things are removed.\n",
    "\n",
    "1. **Emojis**: The package `emoji` contains a list with the unicode of most emojis. They are removed by checking if a token is in the list of emojis. \n",
    "2. **Whitespaces**: Whitespaces are removed by checking if a token is a string with solely empty spaces: `isspace()`.\n",
    "3. **Punctuation**: Punctuation is removed with `is_punct()`."
   ]
  },
  {
   "cell_type": "code",
   "execution_count": 8,
   "metadata": {
    "collapsed": true
   },
   "outputs": [],
   "source": [
    "# Get a list of all emojis\n",
    "emojis = set([kk for k,v in emoji.UNICODE_EMOJI.items() for kk,vv in v.items()])\n",
    "\n",
    "# Tokenize text and remove punctuation, emojis, and empty strings containing only whitespaces\n",
    "proc_txt = [[t for t in text if not t.is_punct and not t.text in emojis and not t.text.isspace()] for text in processed_txt]"
   ]
  },
  {
   "cell_type": "markdown",
   "metadata": {},
   "source": [
    "# Identifying markers"
   ]
  },
  {
   "cell_type": "markdown",
   "metadata": {},
   "source": [
    "## Number of words"
   ]
  },
  {
   "cell_type": "markdown",
   "metadata": {},
   "source": [
    "In addition to the pre-processing that has already been done in `proc_text`, the following steps have been taken to get the word count.\n",
    "\n",
    "1. `len()`: Get the length of the comment by counting the tokens\n",
    "\n",
    "There are 210 rows with a word count of 0. They only contain emojis and/or punctuation: `df[df['m1_wordcount']==0]`"
   ]
  },
  {
   "cell_type": "code",
   "execution_count": 9,
   "metadata": {
    "collapsed": true
   },
   "outputs": [],
   "source": [
    "# Count words \n",
    "word_count = [len(text) for text in proc_txt]\n",
    "\n",
    "# Add word_count to dataframe\n",
    "df['m1_wordcount'] = word_count"
   ]
  },
  {
   "cell_type": "markdown",
   "metadata": {},
   "source": [
    "## Personal perspective"
   ]
  },
  {
   "cell_type": "markdown",
   "metadata": {},
   "source": [
    "In addition to the pre-processing that has already been done in `proc_text`, the following steps have been taken to check if a comment contains a personal perspective.\n",
    "\n",
    "1. `reference_words`: A list was created with all words that refer to self-reference: `['ik','me','mij','mijn']`.\n",
    "2. `strip()`: Remove all whitespaces at the beginning and end of a string.\n",
    "3. `lower()`: Lowercase in order to be able to also match uppercase words to the words in the `reference_words` list.\n",
    "\n",
    "The personal perspective is a dichotomous column, in which 0 means 'no' and 1 means 'yes'. There is a personal perspective in a comment when it contains a word that is related to self or group reference. These words are: 'ik', 'me', 'mij', 'mijn', 'm'n', and 'mn'."
   ]
  },
  {
   "cell_type": "code",
   "execution_count": 10,
   "metadata": {
    "collapsed": true
   },
   "outputs": [],
   "source": [
    "# Make a list of all words with group and self reference\n",
    "reference_words = ['ik','me','mij','mijn','mn',\"m'n\"]\n",
    "\n",
    "# Get group or self reference words per comment\n",
    "proc_txt_ref = [[t.text for t in text if t.text.strip().lower() in reference_words] for text in proc_txt]\n",
    "\n",
    "# Make binary classification for group or self reference words\n",
    "ref_count = ['yes' if text else 'no' for text in proc_txt_ref]\n",
    "\n",
    "# Add sentence_count to dataframe\n",
    "df['m2_personalperspective'] = ref_count"
   ]
  },
  {
   "cell_type": "code",
   "execution_count": 11,
   "metadata": {},
   "outputs": [
    {
     "data": {
      "image/png": "iVBORw0KGgoAAAANSUhEUgAAAXwAAAEECAYAAAArlo9mAAAAOXRFWHRTb2Z0d2FyZQBNYXRwbG90\nbGliIHZlcnNpb24zLjMuNCwgaHR0cHM6Ly9tYXRwbG90bGliLm9yZy8QVMy6AAAACXBIWXMAAAsT\nAAALEwEAmpwYAAAY6UlEQVR4nO3de1TUdf7H8dcAiomimbfjailqqbtbriJWa3iJQCszr6SBeryt\nrmW0ZSiCUF4Q8ZJpKdp18V5ap07r7hqbS+qKrGfTXVxFjYhEA1NbJBkY+Pz+2LPzy1M0VvMdlO/z\ncU6nZoa+n7cHzpOvn5n5jsMYYwQAqPf86noAAIBvEHwAsAmCDwA2QfABwCYIPgDYxDUb/MmTJ9f1\nCABQr1yzwb9w4UJdjwAA9UqAVQfOyMjQX/7yF1VVVWns2LEKCwvTnDlz5HA41LVrVyUnJ8vP75r9\nfQMA9Y4lxc3JydE//vEPbdmyRZmZmTp79qxSU1MVFxenzZs3yxijrKwsK5YGANTCkuDv3btXt956\nq2bOnKnp06drwIABysvLU1hYmCQpPDxc+/fvt2JpAEAtLNnSuXDhgoqLi7Vu3Tp9/vnnmjFjhowx\ncjgckqSgoCCVlZVZsTQAoBaWBL958+YKCQlRw4YNFRISosDAQJ09e9b9eHl5uYKDg61YGgBQC0u2\ndHr37q2PPvpIxhh98cUXunz5su666y7l5ORIkrKzsxUaGmrF0gCAWlhyhj9w4EDl5uZq1KhRMsZo\n/vz5at++vZKSkrRixQqFhIQoKirKiqUBALVwXKuXRx4xYoR27txZ12MAQL3BC+EBwCbqdfBrqpx1\nPQKuQfxcwK4se6fttcCvQaDyp4bU9Ri4xty64ZO6HgGoE/X6DB8A8P8IPgDYBMEHAJsg+ABgEwQf\nAGyC4AOATRB8ALAJgg8ANkHwAcAmCD4A2ATBBwCbIPgAYBMEHwBsguADgE0QfACwCYIPADZB8AHA\nJgg+ANgEwQcAmyD4AGATBB8AbILgA4BNEHwAsAmCDwA2QfABwCYCrDrw8OHD1aRJE0lS+/btFR0d\nrUWLFsnf31/9+vXTY489ZtXSAIDvYEnwnU6njDHKzMx03zds2DCtXr1aHTp00LRp03T06FH16NHD\niuUBAN/Bki2dY8eO6fLly5o0aZLGjx+v3NxcVVZW6uabb5bD4VC/fv20f/9+K5YGANTCkjP8Ro0a\nafLkyRo9erQ+/fRTTZ06VcHBwe7Hg4KCVFRUZMXSAIBaWBL8Tp066ZZbbpHD4VCnTp3UtGlTXbx4\n0f14eXn5Fb8AAADWs2RL56233tKSJUskSV988YUuX76sxo0b67PPPpMxRnv37lVoaKgVSwMAamHJ\nGf6oUaM0d+5cjR07Vg6HQ4sXL5afn5+efvppVVdXq1+/frrjjjusWBoAUAtLgt+wYUMtX778W/dv\n377diuUAAFeBN14BgE0QfACwCYIPADZB8AHAJgg+ANgEwQcAmyD4AGATBB8AbILgA4BNEHwAsAmC\nDwA2QfABwCYIPgDYBMEHAJsg+ABgEwQfAGyC4AOATRB8ALAJgg8ANkHwAcAmCD4A2ATBBwCbIPgA\nYBMEHwBsguADdcBVY+p6BFyDrP65CLD06AC+U4CfQxl5X9X1GLjG/ObnzSw9Pmf4AGATlgX/yy+/\nVP/+/XXq1CkVFhZq7NixGjdunJKTk1VTU2PVsgCAWlgS/KqqKs2fP1+NGjWSJKWmpiouLk6bN2+W\nMUZZWVlWLAsA+B6WBD8tLU2PPPKIWrduLUnKy8tTWFiYJCk8PFz79++3YlkAwPfwevB37typFi1a\n6J577nHfZ4yRw+GQJAUFBamsrMzbywIAPPD4Kp39+/fL5XLJGKMFCxboiSee0NChQ2v9+h07dsjh\ncOhvf/ub/v3vfys+Pl7nz593P15eXq7g4GDvTA8AuGoez/BXrlypjh076ve//722bNmirVu3fu/X\nb9q0SRs3blRmZqa6d++utLQ0hYeHKycnR5KUnZ2t0NBQ70wPALhqHoPfqFEj3XTTTQoICFCrVq3c\nWzM/RHx8vFavXq3o6GhVVVUpKirqRw0LAPjxPG7pBAUFacqUKYqOjtamTZvUokWLqz54Zmam+783\nbtz44yYEAHiFx+AvW7ZMZ8+eVZcuXZSfn6/IyEhfzAUA8LJat3RKS0tVUFCgSZMmKSAgQAUFBfL3\n99eMGTN8OR8AwEtqPcM/fPiw3njjDRUUFCgpKUmS5Ofnp379+vlsOACA99Qa/IiICEVEROivf/2r\n+vfv78uZAAAW8LiH37p1a6WkpMjpdLrvS01NtXQoAID3eQz+nDlzFBMTo7Zt2/piHgCARTwGv2XL\nlho9erQvZgEAWMhj8H/2s59p/fr16t69u/tNVzxxCwDXH4/Br6qqUkFBgQoKCtz3EXwAuP54DH5q\naqoKCgr02Wef6bbbbnNf8hgAcH3xGPyNGzdq9+7d+uqrrzR8+HAVFhZq/vz5vpgNAOBFHi+e9v77\n7+u1115T06ZNNWHCBB0+fNgXcwEAvMxj8P/34SX/e8K2YcOGlg8FAPA+j1s6Dz74oB599FEVFxdr\n6tSpioiI8MVcAAAv8xj8mJgY3XXXXcrPz1dISIhuu+02X8wFAPAyj8E/cuSI3n//fTmdTvenVqWk\npFg9FwDAyzwGPz4+XlOnTuVzaAHgOucx+LfccotGjBjhi1kAABbyGPyoqCg9+eST6ty5s/u+xx57\nzNKhAADe5zH4mzZtUmRkJFs6AHCd8xj85s2ba9q0ab6YBQBgIY/Bv/HGGzV//nz16NHD/ear6Oho\nywcDAHjXVT1pK0nnzp2zfBgAgHU8Bn/GjBk6ceKEKisrfTEPAMAiHoM/bdo0VVZWup+0dTgcWrNm\njeWDAQC8y2PwnU6nNm7c6ItZAAAW8hj80NBQffTRR1e8Dr9du3aWDgUA8D6Pwf/yyy+1ePHiK7Z0\ntm7davlgAADv8hj8Tz75RLt27fpBB62urlZiYqIKCgrkcDj07LPPKjAwUHPmzJHD4VDXrl2VnJws\nPz+Pl+MHAHiJx+Ledttt+vjjj1VZWen+x5MPP/xQkrR161bFxcVp5cqVSk1NVVxcnDZv3ixjjLKy\nsn769ACAq+bxDD83N1d79uxx33Y4HB5jHRERoQEDBkiSiouLFRwcrP379yssLEySFB4ern379um+\n++778ZMDAH4Qj8F/7733JP13L7958+by9/e/ugMHBCg+Pl67d+/WCy+8oH379rnfqRsUFKSysrKf\nMDYA4IfyuKWTk5Oje++9V5MnT9Z9992nffv2XfXB09LS9Kc//UlJSUlyOp3u+8vLy7kYGwD4mMfg\nP//889q8ebPeeecdbdmyRc8//7zHg77zzjvKyMiQJN1www1yOBz6xS9+4f7ErOzsbIWGhv60yQEA\nP4jHLR1/f3+1adNGktSmTRsFBgZ6PGhkZKTmzp2rRx99VC6XSwkJCercubOSkpK0YsUKhYSEKCoq\n6qdPDwC4ah6D36RJE2VmZqpPnz7Kzc1Vs2bNPB60cePGWrVq1bfu5x27AFB3PG7ppKenq7i4WCtX\nrtSZM2e0ePFiX8wFAPAyj8G/cOGCfv7znysjI0N+fn68ugYArlMeg//MM8+offv2kqT+/ftr3rx5\nlg8FAPC+q7q2Qc+ePSVJffr0UU1NjZXzAAAs4vFJ2+DgYG3btk09e/bUkSNHFBQU5Iu5AABe5vEM\nf8mSJTp58qTS09N16tQpnrQFgOuUxzP8Fi1asG8PAPUA1ycGAJuoNfi5ubmSxIeXA0A9UWvwFy5c\nqK+//lqTJ09WVVXVD7oePgDg2lPrHn6/fv300EMPqaSk5Irr3lzN9fABANeeWoM/e/ZszZ49Wy++\n+KJmzpzpy5kAABbw+KTtiBEjNGvWLD3wwAOaOXOmTp8+7Yu5AABe5jH4SUlJGjZsmLZs2aLhw4cr\nISHBF3MBALzMY/CdTqfuvfdeBQcHKyIiQtXV1b6YCwDgZR6DX11drePHj0uS+98AgOuPx3faJiUl\nKSEhQaWlpWrdurUWLlzoi7kAAF7mMfjdu3fXjh07fDELAMBCXFoBAGyC4AOATVx18AsLC3Xs2DEr\nZwEAWMjjHr4kvfLKKyouLpbD4VBpaalWrVpl9VwAAC+r9Qz/5Zdfdl8orbCwUI8//rhmzZql4uJi\nnw0HAPCeWs/wf/WrX2n27NmKjIzU+PHjtWDBAlVUVOiJJ57w5XwAAC+pNfi9e/dW79699d5772n1\n6tUaP368evfu7cvZAABeVOuWTn5+vhYtWqSTJ0/qmWee0aFDhzR37lwVFRX5cj4AgJfUGvz58+dr\n5MiRGjBggNasWaNp06bp6aef1htvvOHL+QAAXlLrlk5gYKAOHjyoiooKNW3aVJJ00003KTEx8XsP\nWFVVpYSEBJ0+fVqVlZWaMWOGunTpojlz5sjhcKhr165KTk6Wnx9vAQAAX6o1+GvXrtW+ffvUuHFj\n3X333Vd9wHfffVfNmzdXenq6Ll68qIcffljdunVTXFyc+vbtq/nz5ysrK0v33XefV/4AAICrU2vw\nGzdu/KOiPHjwYPdHIhpj5O/vr7y8PIWFhUmSwsPDtW/fPoIPAD7m9X2VoKAgNWnSRJcuXdKsWbMU\nFxcnY4wcDof78bKyMm8vCwDwwJKN9DNnzmj8+PEaNmyYhg4desV+fXl5uYKDg61YFgDwPbwe/HPn\nzmnSpEmaPXu2Ro0aJUnq0aOHcnJyJEnZ2dkKDQ319rIAAA+8Hvx169bpP//5j1566SXFxsYqNjZW\ncXFxWr16taKjo1VVVeXe4wcA+M5VXTzth0hMTPzOl25u3LjR20sBAH4AXgwPADZB8AHAJgg+ANgE\nwQcAmyD4AGATBB8AbILgA4BNEHwAsAmCDwA2QfABwCYIPgDYBMEHAJsg+ABgEwQfAGyC4AOATRB8\nALAJgg8ANkHwAcAmCD4A2ATBBwCbIPgAYBMEHwBsguADgE0QfACwCYIPADZB8AHAJgg+ANgEwQcA\nm7As+IcPH1ZsbKwkqbCwUGPHjtW4ceOUnJysmpoaq5YFANTCkuBv2LBBiYmJcjqdkqTU1FTFxcVp\n8+bNMsYoKyvLimUBAN/DkuDffPPNWr16tft2Xl6ewsLCJEnh4eHav3+/FcsCAL6HJcGPiopSQECA\n+7YxRg6HQ5IUFBSksrIyK5YFAHwPnzxp6+f3/8uUl5crODjYF8sCAL7BJ8Hv0aOHcnJyJEnZ2dkK\nDQ31xbIAgG/wSfDj4+O1evVqRUdHq6qqSlFRUb5YFgDwDQGev+THad++vbZv3y5J6tSpkzZu3GjV\nUgCAq8AbrwDAJgg+ANgEwQcAmyD4AGATBB8AbILgA4BNEHwAsAmCDwA2QfABwCYIPgDYBMEHAJsg\n+ABgEwQfAGyC4AOATRB8ALAJgg8ANkHwAcAmCD4A2ATBBwCbIPgAYBMEHwBsguADgE0QfACwCYIP\nADZB8AHAJgg+ANgEwQcAmwjw1UI1NTVKSUnR8ePH1bBhQy1cuFC33HKLr5YHANvz2Rn+Bx98oMrK\nSm3btk1PPfWUlixZ4qulAQDyYfAPHTqke+65R5LUs2dP/etf//LV0gAA+XBL59KlS2rSpIn7tr+/\nv1wulwICvnuE06dPa8SIEV5YuacXjoF6xSs/V4D3/ckLx7jxxhv1yiuvfOdjPgt+kyZNVF5e7r5d\nU1NTa+wlKScnxxdjAYBt+GxLp1evXsrOzpYkffzxx7r11lt9tTQAQJLDGGN8sdD/XqWTn58vY4wW\nL16szp07+2JpAIB8GHwAQN3ijVcAYBMEHwBsguADgE0Q/HomJydHvXv31pkzZ9z3LVu2TDt37qzD\nqWB3s2bNUkZGhvv2pUuXFBUVpWPHjtXhVPZD8Ouhhg0bau7cueL5eFwrUlJStHXrVp08eVKStHTp\nUkVHR6tbt251PJm9EPx66M4771SzZs20adOmK+5/9dVXNXLkSEVHRys9Pb2OpoMdtWjRQklJSUpM\nTFROTo4+//xzDRkyRFOmTFFsbKymTJmiM2fOyOl0avr06YqJidHIkSO1d+/euh69XiH49VRKSope\nf/11FRYWSpLKy8u1a9cubd26VVu3blVhYaE+/PDDOp4SdjJo0CB16tRJc+fOVWpqqtLS0hQbG6vM\nzExNnjxZy5Yt02effaaLFy9q3bp1WrFihaqrq+t67HrFZ5dWgG/deOONSkhIUHx8vHr16iWn06k7\n7rhDDRo0kCSFhobqxIkTGjhwYB1PCjt5+OGHVVFRoTZt2ig/P18ZGRl6+eWXZYxRQECAunbtqujo\naP3ud7+Ty+VSbGxsXY9crxD8emzQoEHavXu33n77bf32t7/VkSNH5HK55O/vr9zcXD388MN1PSJs\nLCQkRJMmTVKvXr106tQp5ebm6vjx4yovL9f69etVUlKiRx55hJMSLyL49dy8efN04MABBQUFaciQ\nIRo7dqxqamrUu3dvRURE1PV4sLH4+HilpKTI6XSqoqJC8+bNU8eOHfXiiy9q165dqqmp0axZs+p6\nzHqFSysAgE3wpC0A2ATBBwCbIPgAYBMEHwBsguADgE0QfNSZnJwc3XXXXYqNjVVsbKzGjBmjzMzM\nuh5LgwYNktPprOsxauV0OvXmm29Kknbu3KmsrKw6ngjXC16Hjzp15513auXKlZKkyspKDR48WMOG\nDVNwcHAdT3btKi0t1ZtvvqnRo0drxIgRdT0OriMEH9eMS5cuyc/PT/7+/jp+/LgWLlwoSWrevLkW\nL16so0ePatmyZWrQoIHGjBmjgoIC5eTkyOVyKTIyUtOmTdPRo0e1YMEC+fv7KzAwUAsWLFBNTY2e\neuoptW3bVkVFRfrlL3+pZ599VmfPnnW/8ae0tFRxcXG1vhnt/vvvd1+OolmzZlqxYoUaNGig5ORk\nFRYWqqamRnFxcerbt68efPBBdezYUQ0aNFBMTIzS0tIUEBCgG264QatWrdKf//xnffDBByovL9eF\nCxc0c+ZMRUVF6eDBg1q5cqX8/f3VoUMHPffcc6qurtbcuXNVXFysqqoqJSUlaceOHTp58qTWrFkj\nY4xatmypTz/9VN26ddPw4cNVWlqq3/zmN9q5c6eWL1+uv//976qpqdHEiRM1ZMgQX35Lca0xQB05\ncOCAufPOO01MTIyJjY01kyZNMnv27DHGGDN69Ghz4sQJY4wx27dvNytWrDAHDhwwQ4cOdf//AwcO\nNEVFRcbpdJotW7YYY4wZPny4OXr0qDHGmN27d5vHH3/cFBUVmbCwMFNWVmZcLpcZMGCAKSkpMfv2\n7TMHDhwwxhhz6NAhM3HiRPdxKyoqrph14MCB5uDBg8YYY9LS0syrr75qNm3aZJYuXWqMMeb8+fPm\n/vvvd39tXl6eMcaYJUuWmFdffdVUV1eb3bt3m9OnT5sdO3aYiRMnmurqalNaWmoGDBhgKisrTWRk\npDl37pwxxpiVK1eabdu2mddee82kp6cbY4wpKCgwr732mikqKjKjR482xhjzwgsvmM2bN5sTJ06Y\n2NhYY4wxGzZsMJmZmWbPnj0mLi7OGGNMRUWFeeihh8xXX33lhe8crlec4aNOfXNL55tOnTqlZ599\nVpJUVVWljh07SpI6derk/pr09HQtX75c586d0z333CNJKikpUffu3SVJffr00fLlyyVJN998s5o0\naSJJatWqlZxOp1q1aqW1a9fqrbfeksPhkMvlqnXOgIAA9enTR5LUq1cvZWdny8/PT4cOHdKRI0ck\nSS6XS+fPn79izunTp2vdunWaMGGC2rRpo9tvv909m5+fn1q2bKng4GCVlJSopKREcXFxkqSKigrd\nfffdunDhgsLDwyVJHTt21MSJE/X5559/a74uXbqourpap0+f1h/+8Ae9/vrr2rZtm/Ly8twXIHO5\nXDp9+jTbZTZG8HFN6tSpk9LS0tSuXTsdOnRIpaWlkiQ/v/++zqCyslJ//OMftWLFCkn/3XJ54IEH\n1Lp1ax07dkzdunVTbm6u+xeFw+H41hqrVq3S6NGj1b9/f+3YsUNvv/12rfO4XC73cQ8dOqQuXbpI\nktq2bavp06eroqJCa9euVfPmza+Y891339Xw4cMVHx+vjIwMbd++Xe3atVNeXp4k6dy5c7p06ZLa\ntm2rtm3b6qWXXlLTpk2VlZWlxo0bKz8/X//85z8VERGhoqIiPf/883rqqadUU1PzrRlHjRql9PR0\ndenSRcHBwQoJCVHfvn3d21ovvfSSOnTo8CO+G6gvCD6uSSkpKYqPj5fL5ZLD4dCiRYtUUlLifrxh\nw4Zq1qyZxowZo0aNGunXv/612rVrp4ULF2rBggUyxsjf31+LFy+udY3Bgwdr6dKlWr9+vdq2basL\nFy5870wbNmxQcXGx2rVrpyeffFKSlJiYqJiYGF26dEnjxo1zh/5/br/9diUmJuqGG26Qn5+fnnvu\nOeXm5urcuXOaMGGCysrKlJycLH9/f82bN0/Tpk2TMUZBQUFaunSpevXqpYSEBMXExKi6uloJCQm6\n6aabVFVVpfT0dDVq1OiKP8+iRYu0du1aSf99tdHBgwc1btw4ff3114qIiHD/LQf2xMXTgKswaNAg\n7dq1S4GBgT/5WDt37tQnn3yip59+2guTAVeP1+EDgE1whg8ANsEZPgDYBMEHAJsg+ABgEwQfAGyC\n4AOATfwfp9lOaYe3wkwAAAAASUVORK5CYII=\n",
      "text/plain": [
       "<Figure size 432x288 with 1 Axes>"
      ]
     },
     "metadata": {},
     "output_type": "display_data"
    }
   ],
   "source": [
    "# Set style options for plot\n",
    "sns.set_style('white') # Back ground\n",
    "\n",
    "# Calculate percentages per class\n",
    "counts = df['m2_personalperspective'].value_counts(normalize=True).mul(100).rename('percent').reset_index().sort_values('index')\n",
    "\n",
    "# Change label names\n",
    "counts['index'].replace('yes','Yes',inplace=True)\n",
    "counts['index'].replace('no','No',inplace=True)\n",
    "\n",
    "# Set colour palette\n",
    "palette = {c: '#89DAFF' if c != 'No' else '#F75C03' for c in counts['index']}\n",
    "\n",
    "# Create plot and set labels\n",
    "sns.barplot(x='index',y='percent',data=counts,order=counts['index'],palette=palette) # Could also use countplot but then not able to normalize\n",
    "plt.ylabel('% of comments')\n",
    "plt.xlabel('Personal perspective')\n",
    "\n",
    "# Remove right and top spines\n",
    "sns.despine()\n",
    "\n",
    "# Save and plot figure\n",
    "plt.savefig('data/m2_personalperspective.png', dpi=1000)\n",
    "plt.show()"
   ]
  },
  {
   "cell_type": "markdown",
   "metadata": {},
   "source": [
    "## Punctuation"
   ]
  },
  {
   "cell_type": "markdown",
   "metadata": {
    "collapsed": true
   },
   "source": [
    "For this marker, the text was not tokenized. The punctuation was counted as follows:\n",
    "\n",
    "1. `string.punctuation`: The `string` package contains a list of all punctuation.\n",
    "2. The code below counted every type of punctuation per comment. This resulted in a dictionary.\n",
    "3. This dictionary was transformed into a dataframe contain the count per every punctuation.\n",
    "\n",
    "All the tokens were seperately counted using the special punctuation module from the `string` package."
   ]
  },
  {
   "cell_type": "code",
   "execution_count": 12,
   "metadata": {
    "collapsed": true
   },
   "outputs": [],
   "source": [
    "# Create new dataframe\n",
    "df_punct = pd.DataFrame()\n",
    "\n",
    "# Source: https://edu.nl/wpbdf\n",
    "# Count punctuation of each comment and transpose each element into dataframe columns\n",
    "df_punct['punct_dict'] = df['Comment'].astype(str).apply(lambda s: {k:v for k, v in Counter(s).items() if k in string.punctuation})\n",
    "# Expand dictionary in the columns of the dataframe\n",
    "df_punct = df_punct['punct_dict'].apply(pd.Series)\n",
    "\n",
    "# Count all punctuation\n",
    "df_punct['punct_count'] = df_punct.sum(axis=1)\n",
    "\n",
    "# Combine df_punct with CommentID column from df\n",
    "df_punct = pd.concat([df['CommentID'], df_punct], axis=1)\n",
    "\n",
    "# Replace all nans with 0\n",
    "df_punct.fillna(0, inplace=True)"
   ]
  },
  {
   "cell_type": "code",
   "execution_count": 13,
   "metadata": {
    "collapsed": true
   },
   "outputs": [],
   "source": [
    "# Add punctuation counts to dataframe\n",
    "df['punct_count'] = df_punct['punct_count']\n",
    "df['m5_questionmark'] = df_punct['?']\n",
    "df['m6_exclamationmark'] = df_punct['!']"
   ]
  },
  {
   "cell_type": "markdown",
   "metadata": {},
   "source": [
    "## Pausality"
   ]
  },
  {
   "cell_type": "markdown",
   "metadata": {},
   "source": [
    "### Number of sentences"
   ]
  },
  {
   "cell_type": "markdown",
   "metadata": {},
   "source": [
    "To get the number of sentences, the spaCy sentence tokenizer was used: `.sents`.\n",
    "\n",
    "The spaCy package has a special sentence tokenizer. In order to use this, the processing of the text does take longer. For this body of text, it was still doable. However, with an even larger corpus, this method could be revised. The sentences were first tokenized, after which the sentences were counted."
   ]
  },
  {
   "cell_type": "code",
   "execution_count": 14,
   "metadata": {
    "collapsed": true
   },
   "outputs": [],
   "source": [
    "# Split sentences\n",
    "proc_txt_sent = [[sentence.text for sentence in text.sents] for text in processed_txt]\n",
    "\n",
    "# Count sentences\n",
    "sentence_count = [len(text) for text in proc_txt_sent]\n",
    "\n",
    "# Add sentence_count to dataframe\n",
    "df['sentence_count'] = sentence_count"
   ]
  },
  {
   "cell_type": "markdown",
   "metadata": {},
   "source": [
    "### Pausality"
   ]
  },
  {
   "cell_type": "code",
   "execution_count": 15,
   "metadata": {
    "collapsed": true
   },
   "outputs": [],
   "source": [
    "# Calculate pausality: total # of punctuation marks divided by total # of sentences\n",
    "df['m3_pausality'] = df['punct_count'] / df['sentence_count']\n",
    "df['m3_pausality'] = df['m3_pausality'].astype(float)\n",
    "\n",
    "# Fill all null values with 0\n",
    "df['m3_pausality'] = df['m3_pausality'].fillna(0)"
   ]
  },
  {
   "cell_type": "markdown",
   "metadata": {},
   "source": [
    "## Lexical diversity"
   ]
  },
  {
   "cell_type": "markdown",
   "metadata": {},
   "source": [
    "### Number of unique words"
   ]
  },
  {
   "cell_type": "markdown",
   "metadata": {},
   "source": [
    "In addition to the pre-processing that has already been done in `proc_text`, the following steps have been taken to get the unique word count:\n",
    "\n",
    "1. `strip()`: Remove all whitespaces at the beginning and end of a string\n",
    "2. `lower()`: Lowercase in order to be able to match the same words with different upper- and lowercasing\n",
    "3. `set()`: Make a set of the tokens to remove duplicates\n",
    "4. `len()`: Get the length of the set\n",
    "\n",
    "The unique words are counted by removing punctuation, emojis, and strings containing solely whitespaces, lowercasing all the words, and then getting a set of all the unique words. These words are then counted. Lowercasing has to happen to make sure the same word is not seen as unique because of a difference in lower- and uppercasing."
   ]
  },
  {
   "cell_type": "code",
   "execution_count": 16,
   "metadata": {
    "collapsed": true
   },
   "outputs": [],
   "source": [
    "# Get unique words per comment\n",
    "proc_txt_unique = [set([t.text.strip().lower() for t in text]) for text in proc_txt]\n",
    "\n",
    "# Count unique words\n",
    "unique_word_count = [len(uniq) for uniq in proc_txt_unique]\n",
    "\n",
    "# Add unique_word_count to dataframe\n",
    "df['unique_word_count'] = unique_word_count"
   ]
  },
  {
   "cell_type": "markdown",
   "metadata": {},
   "source": [
    "### Lexical diversity"
   ]
  },
  {
   "cell_type": "code",
   "execution_count": 17,
   "metadata": {
    "collapsed": true
   },
   "outputs": [],
   "source": [
    "# Calculate lexical diversity: unique # of words divided by total # of words\n",
    "df['m4_lexicaldiversity'] = df['unique_word_count'] / df['m1_wordcount']\n",
    "\n",
    "# Fill all null values with 0\n",
    "df['m4_lexicaldiversity'] = df['m4_lexicaldiversity'].fillna(0)"
   ]
  },
  {
   "cell_type": "markdown",
   "metadata": {},
   "source": [
    "### Sentiment (polarity)"
   ]
  },
  {
   "cell_type": "code",
   "execution_count": 18,
   "metadata": {
    "collapsed": true
   },
   "outputs": [],
   "source": [
    "# Add sentiment score as marker to dataset\n",
    "df['m7_sentiment'] = df_sentiment['sentiment_score']"
   ]
  },
  {
   "cell_type": "markdown",
   "metadata": {},
   "source": [
    "# Compare markers"
   ]
  },
  {
   "cell_type": "code",
   "execution_count": 37,
   "metadata": {},
   "outputs": [],
   "source": [
    "# Create dataframe only with the markers\n",
    "df_automaticmarkers = df[['ThreadID','CommentID','Comment','m1_wordcount','m2_personalperspective','m3_pausality','m4_lexicaldiversity','m5_questionmark','m6_exclamationmark','m7_sentiment']].copy()\n",
    "df_compare = df[['m1_wordcount','m2_personalperspective','m3_pausality','m4_lexicaldiversity','m5_questionmark','m6_exclamationmark','m7_sentiment']].copy()\n",
    "df_rank = df[['m1_wordcount','m3_pausality','m4_lexicaldiversity','m5_questionmark','m6_exclamationmark','m7_sentiment']].copy()\n",
    "\n",
    "# Save dataframes \n",
    "df_rank.to_csv('data/rank.csv') \n",
    "df_compare.to_csv('data/compare.csv') \n",
    "df_automaticmarkers.to_csv('data/automaticmarkers.csv') "
   ]
  },
  {
   "cell_type": "markdown",
   "metadata": {},
   "source": [
    "## Comparing personal perspective with other markers"
   ]
  },
  {
   "cell_type": "code",
   "execution_count": 20,
   "metadata": {},
   "outputs": [
    {
     "data": {
      "text/html": [
       "<div>\n",
       "<style scoped>\n",
       "    .dataframe tbody tr th:only-of-type {\n",
       "        vertical-align: middle;\n",
       "    }\n",
       "\n",
       "    .dataframe tbody tr th {\n",
       "        vertical-align: top;\n",
       "    }\n",
       "\n",
       "    .dataframe thead th {\n",
       "        text-align: right;\n",
       "    }\n",
       "</style>\n",
       "<table border=\"1\" class=\"dataframe\">\n",
       "  <thead>\n",
       "    <tr style=\"text-align: right;\">\n",
       "      <th></th>\n",
       "      <th>m1_wordcount</th>\n",
       "      <th>m2_personalperspective</th>\n",
       "      <th>m3_pausality</th>\n",
       "      <th>m4_lexicaldiversity</th>\n",
       "      <th>m5_questionmark</th>\n",
       "      <th>m6_exclamationmark</th>\n",
       "      <th>m7_sentiment</th>\n",
       "    </tr>\n",
       "  </thead>\n",
       "  <tbody>\n",
       "    <tr>\n",
       "      <th>0</th>\n",
       "      <td>61</td>\n",
       "      <td>no</td>\n",
       "      <td>2.571429</td>\n",
       "      <td>0.901639</td>\n",
       "      <td>0.0</td>\n",
       "      <td>4.0</td>\n",
       "      <td>-0.004167</td>\n",
       "    </tr>\n",
       "  </tbody>\n",
       "</table>\n",
       "</div>"
      ],
      "text/plain": [
       "   m1_wordcount m2_personalperspective  m3_pausality  m4_lexicaldiversity  \\\n",
       "0            61                     no      2.571429             0.901639   \n",
       "\n",
       "   m5_questionmark  m6_exclamationmark  m7_sentiment  \n",
       "0              0.0                 4.0     -0.004167  "
      ]
     },
     "execution_count": 20,
     "metadata": {},
     "output_type": "execute_result"
    }
   ],
   "source": [
    "# Load compare.csv\n",
    "df_compare = pd.read_csv('data/compare.csv', index_col=0)\n",
    "df_compare.head(1)"
   ]
  },
  {
   "cell_type": "code",
   "execution_count": 21,
   "metadata": {
    "collapsed": true
   },
   "outputs": [],
   "source": [
    "# Set style options for plot\n",
    "sns.set_style('whitegrid') # Back ground\n",
    "\n",
    "df_compare['m2_personalperspective'].replace('yes','Yes',inplace=True)\n",
    "df_compare['m2_personalperspective'].replace('no','No',inplace=True)\n",
    "\n",
    "# Set colour palette\n",
    "palette = {c: '#89DAFF' if c != 'No' else '#F75C03' for c in df_compare['m2_personalperspective']}"
   ]
  },
  {
   "cell_type": "markdown",
   "metadata": {},
   "source": [
    "### Word count"
   ]
  },
  {
   "cell_type": "code",
   "execution_count": 22,
   "metadata": {},
   "outputs": [
    {
     "data": {
      "image/png": "iVBORw0KGgoAAAANSUhEUgAAAYEAAAEECAYAAADOJIhPAAAAOXRFWHRTb2Z0d2FyZQBNYXRwbG90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\ngg==\n",
      "text/plain": [
       "<Figure size 432x288 with 1 Axes>"
      ]
     },
     "metadata": {},
     "output_type": "display_data"
    }
   ],
   "source": [
    "# Create plot and set labels\n",
    "ax = sns.boxplot(x='m2_personalperspective', y='m1_wordcount',data=df_compare, palette=palette, showfliers=False)\n",
    "plt.ylabel('Word count')\n",
    "plt.xlabel('Personal perspective')\n",
    "\n",
    "# Remove right and top spines\n",
    "sns.despine()\n",
    "\n",
    "# Save and plot figure\n",
    "plt.savefig('data/m2_wordcount.png', dpi=800)\n",
    "plt.show()"
   ]
  },
  {
   "cell_type": "markdown",
   "metadata": {},
   "source": [
    "### Pausality"
   ]
  },
  {
   "cell_type": "code",
   "execution_count": 23,
   "metadata": {},
   "outputs": [
    {
     "data": {
      "image/png": "iVBORw0KGgoAAAANSUhEUgAAAX8AAAEECAYAAADAoTRlAAAAOXRFWHRTb2Z0d2FyZQBNYXRwbG90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\n",
      "text/plain": [
       "<Figure size 432x288 with 1 Axes>"
      ]
     },
     "metadata": {},
     "output_type": "display_data"
    }
   ],
   "source": [
    "# Create plot and set labels\n",
    "ax = sns.boxplot(x='m2_personalperspective', y='m3_pausality',data=df_compare, palette=palette, showfliers=False)\n",
    "plt.ylabel('Pausality')\n",
    "plt.xlabel('Personal perspective')\n",
    "\n",
    "# Remove right and top spines\n",
    "sns.despine()\n",
    "\n",
    "# Save and plot figure\n",
    "plt.savefig('data/m2_pausality.png', dpi=800)\n",
    "plt.show()"
   ]
  },
  {
   "cell_type": "markdown",
   "metadata": {},
   "source": [
    "### Lexical diversity"
   ]
  },
  {
   "cell_type": "code",
   "execution_count": 24,
   "metadata": {},
   "outputs": [
    {
     "data": {
      "image/png": "iVBORw0KGgoAAAANSUhEUgAAAX8AAAEECAYAAADAoTRlAAAAOXRFWHRTb2Z0d2FyZQBNYXRwbG90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\nCf0ft8ixgUOr3YkAAAAASUVORK5CYII=\n",
      "text/plain": [
       "<Figure size 432x288 with 1 Axes>"
      ]
     },
     "metadata": {},
     "output_type": "display_data"
    }
   ],
   "source": [
    "# Create plot and set labels\n",
    "ax = sns.boxplot(x='m2_personalperspective', y='m4_lexicaldiversity',data=df_compare, palette=palette, showfliers=False)\n",
    "plt.ylabel('Lexical diversity')\n",
    "plt.xlabel('Personal perspective')\n",
    "\n",
    "# Remove right and top spines\n",
    "sns.despine()\n",
    "\n",
    "# Save and plot figure\n",
    "plt.savefig('data/m2_lexicaldiversity.png', dpi=800)\n",
    "plt.show()"
   ]
  },
  {
   "cell_type": "markdown",
   "metadata": {},
   "source": [
    "### Number of question marks"
   ]
  },
  {
   "cell_type": "code",
   "execution_count": 25,
   "metadata": {},
   "outputs": [
    {
     "data": {
      "image/png": "iVBORw0KGgoAAAANSUhEUgAAAYoAAAEECAYAAAA2xHO4AAAAOXRFWHRTb2Z0d2FyZQBNYXRwbG90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\ngg==\n",
      "text/plain": [
       "<Figure size 432x288 with 1 Axes>"
      ]
     },
     "metadata": {},
     "output_type": "display_data"
    }
   ],
   "source": [
    "# Create plot and set labels\n",
    "ax = sns.boxplot(x='m2_personalperspective', y='m5_questionmark',data=df_compare, palette=palette, showfliers=False)\n",
    "plt.ylabel('Number of question marks')\n",
    "plt.xlabel('Personal perspective')\n",
    "\n",
    "# Remove right and top spines\n",
    "sns.despine()\n",
    "\n",
    "# Save and plot figure\n",
    "plt.savefig('data/m2_questionmark.png', dpi=800)\n",
    "plt.show()"
   ]
  },
  {
   "cell_type": "markdown",
   "metadata": {},
   "source": [
    "### Number of exclamation marks"
   ]
  },
  {
   "cell_type": "code",
   "execution_count": 26,
   "metadata": {},
   "outputs": [
    {
     "data": {
      "image/png": "iVBORw0KGgoAAAANSUhEUgAAAYoAAAEECAYAAAA2xHO4AAAAOXRFWHRTb2Z0d2FyZQBNYXRwbG90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\nrkJggg==\n",
      "text/plain": [
       "<Figure size 432x288 with 1 Axes>"
      ]
     },
     "metadata": {},
     "output_type": "display_data"
    }
   ],
   "source": [
    "# Create plot and set labels\n",
    "ax = sns.boxplot(x='m2_personalperspective', y='m6_exclamationmark',data=df_compare, palette=palette, showfliers=False)\n",
    "plt.ylabel('Number of exclamation marks')\n",
    "plt.xlabel('Personal perspective')\n",
    "\n",
    "# Remove right and top spines\n",
    "sns.despine()\n",
    "\n",
    "# Save and plot figure\n",
    "plt.savefig('data/m2_exclamationmark.png', dpi=800)\n",
    "plt.show()"
   ]
  },
  {
   "cell_type": "markdown",
   "metadata": {},
   "source": [
    "### Sentiment"
   ]
  },
  {
   "cell_type": "code",
   "execution_count": 27,
   "metadata": {},
   "outputs": [
    {
     "data": {
      "image/png": "iVBORw0KGgoAAAANSUhEUgAAAYQAAAEECAYAAAAoDUMLAAAAOXRFWHRTb2Z0d2FyZQBNYXRwbG90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\nTYUgIiIA/C/h9w+NtK+J5QAAAABJRU5ErkJggg==\n",
      "text/plain": [
       "<Figure size 432x288 with 1 Axes>"
      ]
     },
     "metadata": {},
     "output_type": "display_data"
    }
   ],
   "source": [
    "# Create plot and set labels\n",
    "ax = sns.boxplot(x='m2_personalperspective', y='m7_sentiment',data=df_compare, palette=palette, showfliers=False)\n",
    "plt.ylabel('Sentiment score')\n",
    "plt.xlabel('Personal perspective')\n",
    "\n",
    "# Remove right and top spines\n",
    "sns.despine()\n",
    "\n",
    "# Save and plot figure\n",
    "plt.savefig('data/m2_sentiment.png', dpi=800)\n",
    "plt.show()"
   ]
  },
  {
   "cell_type": "markdown",
   "metadata": {},
   "source": [
    "### Inter-rater agreement: Cohen's kappa"
   ]
  },
  {
   "cell_type": "code",
   "execution_count": 28,
   "metadata": {},
   "outputs": [
    {
     "data": {
      "text/html": [
       "<div>\n",
       "<style scoped>\n",
       "    .dataframe tbody tr th:only-of-type {\n",
       "        vertical-align: middle;\n",
       "    }\n",
       "\n",
       "    .dataframe tbody tr th {\n",
       "        vertical-align: top;\n",
       "    }\n",
       "\n",
       "    .dataframe thead th {\n",
       "        text-align: right;\n",
       "    }\n",
       "</style>\n",
       "<table border=\"1\" class=\"dataframe\">\n",
       "  <thead>\n",
       "    <tr style=\"text-align: right;\">\n",
       "      <th></th>\n",
       "      <th>Unnamed: 0</th>\n",
       "      <th>ThreadID</th>\n",
       "      <th>CommentID</th>\n",
       "      <th>Comment</th>\n",
       "      <th>m1_wordcount</th>\n",
       "      <th>m2_personalperspective</th>\n",
       "      <th>m3_pausality</th>\n",
       "      <th>m4_lexicaldiversity</th>\n",
       "      <th>m5_questionmark</th>\n",
       "      <th>m6_exclamationmark</th>\n",
       "      <th>m7_sentiment</th>\n",
       "    </tr>\n",
       "  </thead>\n",
       "  <tbody>\n",
       "    <tr>\n",
       "      <th>0</th>\n",
       "      <td>0</td>\n",
       "      <td>2510437</td>\n",
       "      <td>188320433</td>\n",
       "      <td>Deel VI (6)!!! Het is ons gelukt! Ruim zeven j...</td>\n",
       "      <td>61</td>\n",
       "      <td>no</td>\n",
       "      <td>2.571429</td>\n",
       "      <td>0.901639</td>\n",
       "      <td>0.0</td>\n",
       "      <td>4.0</td>\n",
       "      <td>-0.004167</td>\n",
       "    </tr>\n",
       "  </tbody>\n",
       "</table>\n",
       "</div>"
      ],
      "text/plain": [
       "   Unnamed: 0  ThreadID  CommentID  \\\n",
       "0           0   2510437  188320433   \n",
       "\n",
       "                                             Comment  m1_wordcount  \\\n",
       "0  Deel VI (6)!!! Het is ons gelukt! Ruim zeven j...            61   \n",
       "\n",
       "  m2_personalperspective  m3_pausality  m4_lexicaldiversity  m5_questionmark  \\\n",
       "0                     no      2.571429             0.901639              0.0   \n",
       "\n",
       "   m6_exclamationmark  m7_sentiment  \n",
       "0                 4.0     -0.004167  "
      ]
     },
     "execution_count": 28,
     "metadata": {},
     "output_type": "execute_result"
    }
   ],
   "source": [
    "# Load rank.csv\n",
    "df_automaticmarkers = pd.read_csv('data/automaticmarkers.csv')\n",
    "df_automaticmarkers.head(1)"
   ]
  },
  {
   "cell_type": "code",
   "execution_count": 29,
   "metadata": {
    "collapsed": true
   },
   "outputs": [],
   "source": [
    "# Add df_manual and df_automaticmarkers together\n",
    "df_final = df_manual.merge(df_automaticmarkers, left_on=['ThreadID','CommentID'], right_on=['ThreadID','CommentID'])\n",
    "\n",
    "# Replace all empty cells of V3 with null values\n",
    "df_final['V3'] = df_final['V3'].str.strip().replace('',np.nan)\n",
    "\n",
    "# Delete rows with null values in V3\n",
    "df_final = df_final.dropna(subset=['V3']).copy()\n",
    "\n",
    "# Change datatype of column\n",
    "df_final['V3'] = df_final['V3'].astype(int)\n",
    "\n",
    "# Change 2 ('no') value of V3 to 0 so that personal_perspective and V3 can be compared\n",
    "df_final.loc[df_final['V3']==2,'V3'] = 0\n",
    "\n",
    "# Change 'yes' into 1 and 'no' into 0\n",
    "df_final.loc[df_final['m2_personalperspective']=='yes','m2_personalperspective'] = 1\n",
    "df_final.loc[df_final['m2_personalperspective']=='no','m2_personalperspective'] = 0"
   ]
  },
  {
   "cell_type": "code",
   "execution_count": 30,
   "metadata": {},
   "outputs": [
    {
     "data": {
      "text/plain": [
       "0.8746554335558419"
      ]
     },
     "execution_count": 30,
     "metadata": {},
     "output_type": "execute_result"
    }
   ],
   "source": [
    "# Calculate Cohen's kappa\n",
    "cohen_kappa_score(list(df_final['V3']), list(df_final['m2_personalperspective']))"
   ]
  },
  {
   "cell_type": "markdown",
   "metadata": {},
   "source": [
    "## Comparing continuous markers"
   ]
  },
  {
   "cell_type": "markdown",
   "metadata": {},
   "source": [
    "### Descriptive statistics"
   ]
  },
  {
   "cell_type": "code",
   "execution_count": 39,
   "metadata": {},
   "outputs": [
    {
     "data": {
      "text/html": [
       "<div>\n",
       "<style scoped>\n",
       "    .dataframe tbody tr th:only-of-type {\n",
       "        vertical-align: middle;\n",
       "    }\n",
       "\n",
       "    .dataframe tbody tr th {\n",
       "        vertical-align: top;\n",
       "    }\n",
       "\n",
       "    .dataframe thead th {\n",
       "        text-align: right;\n",
       "    }\n",
       "</style>\n",
       "<table border=\"1\" class=\"dataframe\">\n",
       "  <thead>\n",
       "    <tr style=\"text-align: right;\">\n",
       "      <th></th>\n",
       "      <th>m1_wordcount</th>\n",
       "      <th>m3_pausality</th>\n",
       "      <th>m4_lexicaldiversity</th>\n",
       "      <th>m5_questionmark</th>\n",
       "      <th>m6_exclamationmark</th>\n",
       "      <th>m7_sentiment</th>\n",
       "    </tr>\n",
       "  </thead>\n",
       "  <tbody>\n",
       "    <tr>\n",
       "      <th>0</th>\n",
       "      <td>61</td>\n",
       "      <td>2.571429</td>\n",
       "      <td>0.901639</td>\n",
       "      <td>0.0</td>\n",
       "      <td>4.0</td>\n",
       "      <td>-0.004167</td>\n",
       "    </tr>\n",
       "  </tbody>\n",
       "</table>\n",
       "</div>"
      ],
      "text/plain": [
       "   m1_wordcount  m3_pausality  m4_lexicaldiversity  m5_questionmark  \\\n",
       "0            61      2.571429             0.901639              0.0   \n",
       "\n",
       "   m6_exclamationmark  m7_sentiment  \n",
       "0                 4.0     -0.004167  "
      ]
     },
     "execution_count": 39,
     "metadata": {},
     "output_type": "execute_result"
    }
   ],
   "source": [
    "# Load rank.csv\n",
    "df_rank = pd.read_csv('data/rank.csv', index_col=0)\n",
    "df_rank.head(1)"
   ]
  },
  {
   "cell_type": "code",
   "execution_count": 40,
   "metadata": {},
   "outputs": [
    {
     "data": {
      "text/html": [
       "<div>\n",
       "<style scoped>\n",
       "    .dataframe tbody tr th:only-of-type {\n",
       "        vertical-align: middle;\n",
       "    }\n",
       "\n",
       "    .dataframe tbody tr th {\n",
       "        vertical-align: top;\n",
       "    }\n",
       "\n",
       "    .dataframe thead th {\n",
       "        text-align: right;\n",
       "    }\n",
       "</style>\n",
       "<table border=\"1\" class=\"dataframe\">\n",
       "  <thead>\n",
       "    <tr style=\"text-align: right;\">\n",
       "      <th></th>\n",
       "      <th>m1_wordcount</th>\n",
       "      <th>m3_pausality</th>\n",
       "      <th>m4_lexicaldiversity</th>\n",
       "      <th>m5_questionmark</th>\n",
       "      <th>m6_exclamationmark</th>\n",
       "      <th>m7_sentiment</th>\n",
       "    </tr>\n",
       "  </thead>\n",
       "  <tbody>\n",
       "    <tr>\n",
       "      <th>mean</th>\n",
       "      <td>31.71</td>\n",
       "      <td>1.48</td>\n",
       "      <td>0.91</td>\n",
       "      <td>0.34</td>\n",
       "      <td>0.13</td>\n",
       "      <td>0.07</td>\n",
       "    </tr>\n",
       "    <tr>\n",
       "      <th>median</th>\n",
       "      <td>15.00</td>\n",
       "      <td>1.00</td>\n",
       "      <td>0.96</td>\n",
       "      <td>0.00</td>\n",
       "      <td>0.00</td>\n",
       "      <td>0.00</td>\n",
       "    </tr>\n",
       "    <tr>\n",
       "      <th>var</th>\n",
       "      <td>6129.98</td>\n",
       "      <td>1.97</td>\n",
       "      <td>0.01</td>\n",
       "      <td>0.67</td>\n",
       "      <td>0.34</td>\n",
       "      <td>0.07</td>\n",
       "    </tr>\n",
       "    <tr>\n",
       "      <th>std</th>\n",
       "      <td>78.29</td>\n",
       "      <td>1.40</td>\n",
       "      <td>0.12</td>\n",
       "      <td>0.82</td>\n",
       "      <td>0.59</td>\n",
       "      <td>0.26</td>\n",
       "    </tr>\n",
       "    <tr>\n",
       "      <th>min</th>\n",
       "      <td>0.00</td>\n",
       "      <td>0.00</td>\n",
       "      <td>0.00</td>\n",
       "      <td>0.00</td>\n",
       "      <td>0.00</td>\n",
       "      <td>-1.00</td>\n",
       "    </tr>\n",
       "    <tr>\n",
       "      <th>max</th>\n",
       "      <td>6468.00</td>\n",
       "      <td>69.00</td>\n",
       "      <td>1.00</td>\n",
       "      <td>77.00</td>\n",
       "      <td>45.00</td>\n",
       "      <td>1.00</td>\n",
       "    </tr>\n",
       "  </tbody>\n",
       "</table>\n",
       "</div>"
      ],
      "text/plain": [
       "        m1_wordcount  m3_pausality  m4_lexicaldiversity  m5_questionmark  \\\n",
       "mean           31.71          1.48                 0.91             0.34   \n",
       "median         15.00          1.00                 0.96             0.00   \n",
       "var          6129.98          1.97                 0.01             0.67   \n",
       "std            78.29          1.40                 0.12             0.82   \n",
       "min             0.00          0.00                 0.00             0.00   \n",
       "max          6468.00         69.00                 1.00            77.00   \n",
       "\n",
       "        m6_exclamationmark  m7_sentiment  \n",
       "mean                  0.13          0.07  \n",
       "median                0.00          0.00  \n",
       "var                   0.34          0.07  \n",
       "std                   0.59          0.26  \n",
       "min                   0.00         -1.00  \n",
       "max                  45.00          1.00  "
      ]
     },
     "execution_count": 40,
     "metadata": {},
     "output_type": "execute_result"
    }
   ],
   "source": [
    "# Get descriptive statistics\n",
    "descriptive = df_rank.apply(['mean','median','var','std','min','max']).round(2)\n",
    "\n",
    "# Save dataframe\n",
    "descriptive.to_csv('data/descriptives.csv') \n",
    "\n",
    "descriptive"
   ]
  },
  {
   "cell_type": "markdown",
   "metadata": {},
   "source": [
    "### Spearman's rank-order correlation coefficient"
   ]
  },
  {
   "cell_type": "code",
   "execution_count": 41,
   "metadata": {},
   "outputs": [
    {
     "data": {
      "text/html": [
       "<div>\n",
       "<style scoped>\n",
       "    .dataframe tbody tr th:only-of-type {\n",
       "        vertical-align: middle;\n",
       "    }\n",
       "\n",
       "    .dataframe tbody tr th {\n",
       "        vertical-align: top;\n",
       "    }\n",
       "\n",
       "    .dataframe thead th {\n",
       "        text-align: right;\n",
       "    }\n",
       "</style>\n",
       "<table border=\"1\" class=\"dataframe\">\n",
       "  <thead>\n",
       "    <tr style=\"text-align: right;\">\n",
       "      <th></th>\n",
       "      <th>m1_wordcount</th>\n",
       "      <th>m3_pausality</th>\n",
       "      <th>m4_lexicaldiversity</th>\n",
       "      <th>m5_questionmark</th>\n",
       "      <th>m6_exclamationmark</th>\n",
       "      <th>m7_sentiment</th>\n",
       "    </tr>\n",
       "  </thead>\n",
       "  <tbody>\n",
       "    <tr>\n",
       "      <th>m1_wordcount</th>\n",
       "      <td>1.000</td>\n",
       "      <td>0.469</td>\n",
       "      <td>-0.818</td>\n",
       "      <td>0.140</td>\n",
       "      <td>0.099</td>\n",
       "      <td>0.144</td>\n",
       "    </tr>\n",
       "    <tr>\n",
       "      <th>m3_pausality</th>\n",
       "      <td>0.469</td>\n",
       "      <td>1.000</td>\n",
       "      <td>-0.367</td>\n",
       "      <td>0.112</td>\n",
       "      <td>0.128</td>\n",
       "      <td>0.063</td>\n",
       "    </tr>\n",
       "    <tr>\n",
       "      <th>m4_lexicaldiversity</th>\n",
       "      <td>-0.818</td>\n",
       "      <td>-0.367</td>\n",
       "      <td>1.000</td>\n",
       "      <td>-0.130</td>\n",
       "      <td>-0.094</td>\n",
       "      <td>-0.109</td>\n",
       "    </tr>\n",
       "    <tr>\n",
       "      <th>m5_questionmark</th>\n",
       "      <td>0.140</td>\n",
       "      <td>0.112</td>\n",
       "      <td>-0.130</td>\n",
       "      <td>1.000</td>\n",
       "      <td>0.026</td>\n",
       "      <td>-0.010</td>\n",
       "    </tr>\n",
       "    <tr>\n",
       "      <th>m6_exclamationmark</th>\n",
       "      <td>0.099</td>\n",
       "      <td>0.128</td>\n",
       "      <td>-0.094</td>\n",
       "      <td>0.026</td>\n",
       "      <td>1.000</td>\n",
       "      <td>0.057</td>\n",
       "    </tr>\n",
       "    <tr>\n",
       "      <th>m7_sentiment</th>\n",
       "      <td>0.144</td>\n",
       "      <td>0.063</td>\n",
       "      <td>-0.109</td>\n",
       "      <td>-0.010</td>\n",
       "      <td>0.057</td>\n",
       "      <td>1.000</td>\n",
       "    </tr>\n",
       "  </tbody>\n",
       "</table>\n",
       "</div>"
      ],
      "text/plain": [
       "                     m1_wordcount  m3_pausality  m4_lexicaldiversity  \\\n",
       "m1_wordcount                1.000         0.469               -0.818   \n",
       "m3_pausality                0.469         1.000               -0.367   \n",
       "m4_lexicaldiversity        -0.818        -0.367                1.000   \n",
       "m5_questionmark             0.140         0.112               -0.130   \n",
       "m6_exclamationmark          0.099         0.128               -0.094   \n",
       "m7_sentiment                0.144         0.063               -0.109   \n",
       "\n",
       "                     m5_questionmark  m6_exclamationmark  m7_sentiment  \n",
       "m1_wordcount                   0.140               0.099         0.144  \n",
       "m3_pausality                   0.112               0.128         0.063  \n",
       "m4_lexicaldiversity           -0.130              -0.094        -0.109  \n",
       "m5_questionmark                1.000               0.026        -0.010  \n",
       "m6_exclamationmark             0.026               1.000         0.057  \n",
       "m7_sentiment                  -0.010               0.057         1.000  "
      ]
     },
     "execution_count": 41,
     "metadata": {},
     "output_type": "execute_result"
    }
   ],
   "source": [
    "# Calculate Spearman's correlation coefficient\n",
    "spearman_rho = df_rank.corr(method='spearman').round(3)\n",
    "\n",
    "# Save dataframe\n",
    "spearman_rho.to_csv('data/corrmatrix.csv') \n",
    "\n",
    "spearman_rho"
   ]
  },
  {
   "cell_type": "code",
   "execution_count": 42,
   "metadata": {},
   "outputs": [
    {
     "data": {
      "text/html": [
       "<div>\n",
       "<style scoped>\n",
       "    .dataframe tbody tr th:only-of-type {\n",
       "        vertical-align: middle;\n",
       "    }\n",
       "\n",
       "    .dataframe tbody tr th {\n",
       "        vertical-align: top;\n",
       "    }\n",
       "\n",
       "    .dataframe thead th {\n",
       "        text-align: right;\n",
       "    }\n",
       "</style>\n",
       "<table border=\"1\" class=\"dataframe\">\n",
       "  <thead>\n",
       "    <tr style=\"text-align: right;\">\n",
       "      <th></th>\n",
       "      <th>m1_wordcount</th>\n",
       "      <th>m3_pausality</th>\n",
       "      <th>m4_lexicaldiversity</th>\n",
       "      <th>m5_questionmark</th>\n",
       "      <th>m6_exclamationmark</th>\n",
       "      <th>m7_sentiment</th>\n",
       "    </tr>\n",
       "  </thead>\n",
       "  <tbody>\n",
       "    <tr>\n",
       "      <th>m1_wordcount</th>\n",
       "      <td>(1.0, 0.0)</td>\n",
       "      <td>(0.46918610284518597, 0.0)</td>\n",
       "      <td>(-0.8178322384945141, 0.0)</td>\n",
       "      <td>(0.1398481997287684, 0.0)</td>\n",
       "      <td>(0.09931769133727696, 1.0186661966620393e-246)</td>\n",
       "      <td>(0.14398885300368577, 0.0)</td>\n",
       "    </tr>\n",
       "    <tr>\n",
       "      <th>m3_pausality</th>\n",
       "      <td>(0.46918610284518597, 0.0)</td>\n",
       "      <td>(1.0, 0.0)</td>\n",
       "      <td>(-0.36688898199099984, 0.0)</td>\n",
       "      <td>(0.11221211647164092, 0.0)</td>\n",
       "      <td>(0.1276203972481278, 0.0)</td>\n",
       "      <td>(0.06331697572896047, 3.5056379724935243e-101)</td>\n",
       "    </tr>\n",
       "    <tr>\n",
       "      <th>m4_lexicaldiversity</th>\n",
       "      <td>(-0.8178322384945141, 0.0)</td>\n",
       "      <td>(-0.3668889819909998, 0.0)</td>\n",
       "      <td>(1.0, 0.0)</td>\n",
       "      <td>(-0.1303290480610343, 0.0)</td>\n",
       "      <td>(-0.09414602416371176, 8.488622530383777e-222)</td>\n",
       "      <td>(-0.10887166109742953, 2.4968228309551563e-296)</td>\n",
       "    </tr>\n",
       "    <tr>\n",
       "      <th>m5_questionmark</th>\n",
       "      <td>(0.13984819972876844, 0.0)</td>\n",
       "      <td>(0.11221211647164092, 0.0)</td>\n",
       "      <td>(-0.1303290480610343, 0.0)</td>\n",
       "      <td>(1.0, 0.0)</td>\n",
       "      <td>(0.02608523684565118, 1.4894971732136408e-18)</td>\n",
       "      <td>(-0.010420246933286961, 0.00044639918700583404)</td>\n",
       "    </tr>\n",
       "    <tr>\n",
       "      <th>m6_exclamationmark</th>\n",
       "      <td>(0.09931769133727697, 1.0186661966616918e-246)</td>\n",
       "      <td>(0.1276203972481278, 0.0)</td>\n",
       "      <td>(-0.09414602416371175, 8.488622530386674e-222)</td>\n",
       "      <td>(0.026085236845651175, 1.4894971732136408e-18)</td>\n",
       "      <td>(1.0, 0.0)</td>\n",
       "      <td>(0.05727758564973192, 4.053585111043614e-83)</td>\n",
       "    </tr>\n",
       "    <tr>\n",
       "      <th>m7_sentiment</th>\n",
       "      <td>(0.14398885300368577, 0.0)</td>\n",
       "      <td>(0.06331697572896047, 3.5056379724935243e-101)</td>\n",
       "      <td>(-0.10887166109742952, 2.4968228309551563e-296)</td>\n",
       "      <td>(-0.010420246933286963, 0.000446399187005832)</td>\n",
       "      <td>(0.05727758564973192, 4.053585111043614e-83)</td>\n",
       "      <td>(0.9999999999999999, 0.0)</td>\n",
       "    </tr>\n",
       "  </tbody>\n",
       "</table>\n",
       "</div>"
      ],
      "text/plain": [
       "                                                       m1_wordcount  \\\n",
       "m1_wordcount                                             (1.0, 0.0)   \n",
       "m3_pausality                             (0.46918610284518597, 0.0)   \n",
       "m4_lexicaldiversity                      (-0.8178322384945141, 0.0)   \n",
       "m5_questionmark                          (0.13984819972876844, 0.0)   \n",
       "m6_exclamationmark   (0.09931769133727697, 1.0186661966616918e-246)   \n",
       "m7_sentiment                             (0.14398885300368577, 0.0)   \n",
       "\n",
       "                                                       m3_pausality  \\\n",
       "m1_wordcount                             (0.46918610284518597, 0.0)   \n",
       "m3_pausality                                             (1.0, 0.0)   \n",
       "m4_lexicaldiversity                      (-0.3668889819909998, 0.0)   \n",
       "m5_questionmark                          (0.11221211647164092, 0.0)   \n",
       "m6_exclamationmark                        (0.1276203972481278, 0.0)   \n",
       "m7_sentiment         (0.06331697572896047, 3.5056379724935243e-101)   \n",
       "\n",
       "                                                 m4_lexicaldiversity  \\\n",
       "m1_wordcount                              (-0.8178322384945141, 0.0)   \n",
       "m3_pausality                             (-0.36688898199099984, 0.0)   \n",
       "m4_lexicaldiversity                                       (1.0, 0.0)   \n",
       "m5_questionmark                           (-0.1303290480610343, 0.0)   \n",
       "m6_exclamationmark    (-0.09414602416371175, 8.488622530386674e-222)   \n",
       "m7_sentiment         (-0.10887166109742952, 2.4968228309551563e-296)   \n",
       "\n",
       "                                                    m5_questionmark  \\\n",
       "m1_wordcount                              (0.1398481997287684, 0.0)   \n",
       "m3_pausality                             (0.11221211647164092, 0.0)   \n",
       "m4_lexicaldiversity                      (-0.1303290480610343, 0.0)   \n",
       "m5_questionmark                                          (1.0, 0.0)   \n",
       "m6_exclamationmark   (0.026085236845651175, 1.4894971732136408e-18)   \n",
       "m7_sentiment          (-0.010420246933286963, 0.000446399187005832)   \n",
       "\n",
       "                                                 m6_exclamationmark  \\\n",
       "m1_wordcount         (0.09931769133727696, 1.0186661966620393e-246)   \n",
       "m3_pausality                              (0.1276203972481278, 0.0)   \n",
       "m4_lexicaldiversity  (-0.09414602416371176, 8.488622530383777e-222)   \n",
       "m5_questionmark       (0.02608523684565118, 1.4894971732136408e-18)   \n",
       "m6_exclamationmark                                       (1.0, 0.0)   \n",
       "m7_sentiment           (0.05727758564973192, 4.053585111043614e-83)   \n",
       "\n",
       "                                                        m7_sentiment  \n",
       "m1_wordcount                              (0.14398885300368577, 0.0)  \n",
       "m3_pausality          (0.06331697572896047, 3.5056379724935243e-101)  \n",
       "m4_lexicaldiversity  (-0.10887166109742953, 2.4968228309551563e-296)  \n",
       "m5_questionmark      (-0.010420246933286961, 0.00044639918700583404)  \n",
       "m6_exclamationmark      (0.05727758564973192, 4.053585111043614e-83)  \n",
       "m7_sentiment                               (0.9999999999999999, 0.0)  "
      ]
     },
     "execution_count": 42,
     "metadata": {},
     "output_type": "execute_result"
    }
   ],
   "source": [
    "# Calculate p-value for Spearman's Rho\n",
    "spearman_rho = {c1:{c2:stats.spearmanr(df_rank[c1].array,df_rank[c2].array) for c2 in df_rank.columns} \n",
    "                for c1 in df_rank.columns}\n",
    "\n",
    "pd.DataFrame(spearman_rho)"
   ]
  }
 ],
 "metadata": {
  "kernelspec": {
   "display_name": "Python 3",
   "language": "python",
   "name": "python3"
  },
  "language_info": {
   "codemirror_mode": {
    "name": "ipython",
    "version": 3
   },
   "file_extension": ".py",
   "mimetype": "text/x-python",
   "name": "python",
   "nbconvert_exporter": "python",
   "pygments_lexer": "ipython3",
   "version": "3.6.3"
  }
 },
 "nbformat": 4,
 "nbformat_minor": 5
}
